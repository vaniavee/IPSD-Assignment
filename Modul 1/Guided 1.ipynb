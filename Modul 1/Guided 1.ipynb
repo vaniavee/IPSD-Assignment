{
 "cells": [
  {
   "cell_type": "markdown",
   "id": "525844db-5014-46c1-a136-c1e878eac4c6",
   "metadata": {},
   "source": [
    "# PRAKTIKUM INFRASTRUKTUR DAN PLATFORM UNTUK SAINS DATA\n",
    "## GUIDED"
   ]
  },
  {
   "cell_type": "markdown",
   "id": "48d8cd47-9ea8-44ba-a69d-7f1785d203ee",
   "metadata": {},
   "source": [
    "Nama : Vania Noverina\n",
    "\n",
    "NIM : 2311110031\n",
    "\n",
    "Kelas : S1SD-04-B"
   ]
  },
  {
   "cell_type": "markdown",
   "id": "96c4cbc4-2e6f-4494-80be-0bfecd60765e",
   "metadata": {},
   "source": [
    "1. Buatlah program yang menampilkan nama dan umur"
   ]
  },
  {
   "cell_type": "code",
   "execution_count": 1,
   "id": "143c90b4-882e-48c8-a36b-ccaee4cbc86c",
   "metadata": {},
   "outputs": [
    {
     "name": "stdout",
     "output_type": "stream",
     "text": [
      "Nama : Yanto \n",
      "Umur : 38\n"
     ]
    }
   ],
   "source": [
    "nama = \"Yanto\"\n",
    "umur = 38\n",
    "print(f\"Nama : {nama} \\nUmur : {umur}\")"
   ]
  },
  {
   "cell_type": "markdown",
   "id": "f8f6e240-3608-498f-ad87-e4540aa9b47b",
   "metadata": {},
   "source": [
    "2. Buat variabel untuk menyimpan nilai luas dan keliling lingkaran, hitung hasilnya."
   ]
  },
  {
   "cell_type": "code",
   "execution_count": 2,
   "id": "91c9759b-5534-4c65-ac0d-a7b933165dfa",
   "metadata": {},
   "outputs": [
    {
     "name": "stdout",
     "output_type": "stream",
     "text": [
      "Luas Lingkaran : 201.06192982974676 \n",
      "Keliling Lingkaran : 50.26548245743669\n"
     ]
    }
   ],
   "source": [
    "from math import pi\n",
    "\n",
    "jari = 8\n",
    "luas = pi *jari**2\n",
    "keliling = 2*pi*jari\n",
    "print(f\"Luas Lingkaran : {luas} \\nKeliling Lingkaran : {keliling}\")"
   ]
  },
  {
   "cell_type": "markdown",
   "id": "3e949b87-b014-4e41-a3f3-75b08c327856",
   "metadata": {},
   "source": [
    "3. Tampilkan tipe data dari variabel yang menyimpan angka dan teks."
   ]
  },
  {
   "cell_type": "code",
   "execution_count": 3,
   "id": "778d10a6-56f7-4a4b-9db4-53611c63a120",
   "metadata": {},
   "outputs": [
    {
     "name": "stdout",
     "output_type": "stream",
     "text": [
      "Tipe Data Angka : <class 'int'> \n",
      "Tipe Data Teks : <class 'str'>\n"
     ]
    }
   ],
   "source": [
    "angka = 129\n",
    "teks = 'ini angka'\n",
    "print(f\"Tipe Data Angka : {type(angka)} \\nTipe Data Teks : {type(teks)}\")"
   ]
  },
  {
   "cell_type": "markdown",
   "id": "97b5e793-88aa-4138-9365-d0b9056104ee",
   "metadata": {},
   "source": [
    "4. Buat program yang mengubah nilai dari tipe integer menjadi float."
   ]
  },
  {
   "cell_type": "code",
   "execution_count": 35,
   "id": "5757a7e1-da1b-4185-949e-f4af7e22b42f",
   "metadata": {},
   "outputs": [
    {
     "name": "stdout",
     "output_type": "stream",
     "text": [
      "nilai kamu adalah 100 dan tipe datanya adalah <class 'int'>\n",
      "nilai kamu adalah 100.0 dan tipe datanya adalah <class 'float'>\n"
     ]
    }
   ],
   "source": [
    "nilai = 100\n",
    "print(f'nilai kamu adalah {nilai} dan tipe datanya adalah {type(nilai)}')\n",
    "nilai = float(nilai)\n",
    "print(f'nilai kamu adalah {nilai} dan tipe datanya adalah {type(nilai)}')"
   ]
  },
  {
   "cell_type": "markdown",
   "id": "d9f6954c-6cad-46ef-b586-b7bb491b33a4",
   "metadata": {},
   "source": [
    "5. Buat program yang mengubah string menjadi integer dan sebaliknya."
   ]
  },
  {
   "cell_type": "code",
   "execution_count": 36,
   "id": "0b64cb73-e4b6-40cc-940d-a57f9325c4cd",
   "metadata": {},
   "outputs": [
    {
     "name": "stdout",
     "output_type": "stream",
     "text": [
      "Tipe Data a : <class 'str'>\n",
      "Tipe Data a : <class 'int'>\n"
     ]
    }
   ],
   "source": [
    "a = \"123\"\n",
    "print(f\"Tipe Data a : {type(a)}\")\n",
    "a = int(a)\n",
    "print(f\"Tipe Data a : {type(a)}\")"
   ]
  },
  {
   "cell_type": "markdown",
   "id": "10297026-57f8-4f5d-a5c5-64d9791d3293",
   "metadata": {},
   "source": [
    "8. Buat program yang mengalikan string dengan angka"
   ]
  },
  {
   "cell_type": "code",
   "execution_count": 37,
   "id": "f336b57f-a3c3-4702-bc26-22805f29f331",
   "metadata": {},
   "outputs": [
    {
     "name": "stdout",
     "output_type": "stream",
     "text": [
      "ulang ulang ulang \n"
     ]
    }
   ],
   "source": [
    "text = \"ulang \"\n",
    "multiplied_text = text * 3\n",
    "print(multiplied_text)"
   ]
  },
  {
   "cell_type": "markdown",
   "id": "bb284815-3ea8-4232-8f62-910d4d6755c9",
   "metadata": {},
   "source": [
    "9. Buat program yang memeriksa apakah angka adalah bilangan genap atau ganjil"
   ]
  },
  {
   "cell_type": "code",
   "execution_count": 1,
   "id": "7fe18fbe-2721-45fd-98d7-2c23e9a466ab",
   "metadata": {},
   "outputs": [
    {
     "name": "stdout",
     "output_type": "stream",
     "text": [
      "Ganjil\n"
     ]
    }
   ],
   "source": [
    "number = 7\n",
    "if number % 2 == 0:\n",
    "    print(\"Genap\")\n",
    "else:\n",
    "    print(\"Ganjil\")"
   ]
  },
  {
   "cell_type": "markdown",
   "id": "9355a036-65e1-4491-912c-bcf14c463bf8",
   "metadata": {},
   "source": [
    "10. Buat program yang memeriksa apakah sebuah nilai lebih besar dari 100"
   ]
  },
  {
   "cell_type": "code",
   "execution_count": 2,
   "id": "9ea04c41-461e-4507-95ce-6c7c8d93dfbc",
   "metadata": {},
   "outputs": [
    {
     "name": "stdout",
     "output_type": "stream",
     "text": [
      "lebih dari 100\n"
     ]
    }
   ],
   "source": [
    "value = 150\n",
    "if value > 100:\n",
    "    print(\"lebih dari 100\")\n",
    "else:\n",
    "    print(\"100 atau kurang dari\")"
   ]
  },
  {
   "cell_type": "markdown",
   "id": "63ad06a3-0e53-4b77-909e-386884d7fe96",
   "metadata": {},
   "source": [
    "11. Buat program yang menerima input umur dan menampilkan kategori umur (anak-anak, remaja, dewasa)"
   ]
  },
  {
   "cell_type": "code",
   "execution_count": 38,
   "id": "27f5bc09-bdb3-4c6b-aeb0-f916a7a12902",
   "metadata": {},
   "outputs": [
    {
     "name": "stdout",
     "output_type": "stream",
     "text": [
      "Remaja\n"
     ]
    }
   ],
   "source": [
    "age = 16\n",
    "if age <= 12:\n",
    "    print(\"Anak-anak\")\n",
    "elif 13 <= age <= 17:\n",
    "    print(\"Remaja\")\n",
    "else:\n",
    "    print(\"Dewasa\")"
   ]
  },
  {
   "cell_type": "markdown",
   "id": "e9e89bff-5bc3-4f10-b95c-5593501d4418",
   "metadata": {},
   "source": [
    "12. Buat program yang meminta input nama pengguna, jika nama benar tampilkan \"Selamat datang\""
   ]
  },
  {
   "cell_type": "code",
   "execution_count": 40,
   "id": "af23b01d-7413-48b1-aac4-739f00fc1a7c",
   "metadata": {},
   "outputs": [
    {
     "name": "stdin",
     "output_type": "stream",
     "text": [
      "Enter username:  Slamet\n"
     ]
    },
    {
     "name": "stdout",
     "output_type": "stream",
     "text": [
      "Selamat datang Slamet\n"
     ]
    }
   ],
   "source": [
    "username = input(\"Enter username: \")\n",
    "if username == \"Jono\":\n",
    "    print(\"Selamat datang {username}\")\n",
    "elif username == \"Slamet\":\n",
    "    print(f\"Selamat datang {username}\")\n",
    "else:\n",
    "    print(\"Nama tidak dikenali\")"
   ]
  },
  {
   "cell_type": "markdown",
   "id": "ec513aa5-8972-4045-8948-5c3954448d4f",
   "metadata": {},
   "source": [
    "13. Buat program yang menampilkan apakah suatu tahun adalah tahun kabisat"
   ]
  },
  {
   "cell_type": "code",
   "execution_count": 41,
   "id": "14ba59f4-9c66-40d4-8af6-836709146336",
   "metadata": {},
   "outputs": [
    {
     "name": "stdout",
     "output_type": "stream",
     "text": [
      "Tahun Kabisat\n"
     ]
    }
   ],
   "source": [
    "year = 2024\n",
    "if (year % 4 == 0 and year % 100 != 0) or (year % 400 == 0):\n",
    "    print(\"Tahun Kabisat\")\n",
    "else:\n",
    "    print(\"Bukan Tahun Kabisat\")"
   ]
  },
  {
   "cell_type": "markdown",
   "id": "1b16796b-0a7f-4909-987d-c172ca533edb",
   "metadata": {},
   "source": [
    "14. Buat program untuk menentukan apakah seseorang boleh memberikan suara berdasarkan umurnya"
   ]
  },
  {
   "cell_type": "code",
   "execution_count": 42,
   "id": "461fa79d-eef8-4426-a457-04699b6e86dd",
   "metadata": {},
   "outputs": [
    {
     "name": "stdout",
     "output_type": "stream",
     "text": [
      "Boleh memberikan suara\n"
     ]
    }
   ],
   "source": [
    "age = 18\n",
    "if age >= 18:\n",
    "    print(\"Boleh memberikan suara\")\n",
    "else:\n",
    "    print(\"Tidak boleh memberikan suara\")"
   ]
  },
  {
   "cell_type": "markdown",
   "id": "d70a05e7-93a9-4f5a-bd51-fc9bffc9b514",
   "metadata": {},
   "source": [
    "15. Buat program yang meminta input tiga angka dan menampilkan angka terbesar."
   ]
  },
  {
   "cell_type": "code",
   "execution_count": 43,
   "id": "15546c6a-e09b-41fe-b2eb-af44654e1b84",
   "metadata": {},
   "outputs": [
    {
     "name": "stdout",
     "output_type": "stream",
     "text": [
      "Nilai terbesar 7\n"
     ]
    }
   ],
   "source": [
    "a, b, c = 3, 7, 5\n",
    "largest = max(a, b, c)\n",
    "print(f\"Nilai terbesar {largest}\")"
   ]
  },
  {
   "cell_type": "markdown",
   "id": "64474bac-4f75-44b2-b569-17415a65cd45",
   "metadata": {},
   "source": [
    "16. Buat program yang mengecek apakah dua string memiliki panjang yang sama"
   ]
  },
  {
   "cell_type": "code",
   "execution_count": 44,
   "id": "87f08e54-1a2c-4a31-b008-721c321965f6",
   "metadata": {},
   "outputs": [
    {
     "name": "stdout",
     "output_type": "stream",
     "text": [
      "Memiliki Panjang yg sama\n"
     ]
    }
   ],
   "source": [
    "str1 = \"hello\"\n",
    "str2 = \"world\"\n",
    "if len(str1) == len(str2):\n",
    "    print(\"Memiliki Panjang yg sama\")\n",
    "else:\n",
    "    print(\"Memiliki panjang yg berbeda\")"
   ]
  },
  {
   "cell_type": "markdown",
   "id": "8f3e11b0-0cc8-44d4-8951-8b7b78440008",
   "metadata": {},
   "source": [
    "17. Buat program yang menampilkan angka 1 sampai 10 menggunakan for loop"
   ]
  },
  {
   "cell_type": "code",
   "execution_count": 45,
   "id": "6fc98106-49aa-4947-ada4-ddbcfb36340f",
   "metadata": {},
   "outputs": [
    {
     "name": "stdout",
     "output_type": "stream",
     "text": [
      "1\n",
      "2\n",
      "3\n",
      "4\n",
      "5\n",
      "6\n",
      "7\n",
      "8\n",
      "9\n",
      "10\n"
     ]
    }
   ],
   "source": [
    "for i in range(1, 11):\n",
    "    print(i)"
   ]
  },
  {
   "cell_type": "markdown",
   "id": "a443ac49-dd22-4cba-b994-8a9d35429bfb",
   "metadata": {},
   "source": [
    "18. Buat program yang menampilkan bilangan genap dari 2 sampai 20 menggunakan while loop"
   ]
  },
  {
   "cell_type": "code",
   "execution_count": 46,
   "id": "c13395f2-5b86-4815-b0ca-6c88e6b26741",
   "metadata": {},
   "outputs": [
    {
     "name": "stdout",
     "output_type": "stream",
     "text": [
      "2\n",
      "4\n",
      "6\n",
      "8\n",
      "10\n",
      "12\n",
      "14\n",
      "16\n",
      "18\n",
      "20\n"
     ]
    }
   ],
   "source": [
    "i = 2\n",
    "while i <= 20:\n",
    "    print(i)\n",
    "    i += 2"
   ]
  },
  {
   "cell_type": "markdown",
   "id": "fdd62695-7326-4e9a-b271-02b0ee4155db",
   "metadata": {},
   "source": [
    "19. Buat program yang menerima input dan menampilkan kalimat tersebut sebanyak 5 kali"
   ]
  },
  {
   "cell_type": "code",
   "execution_count": 47,
   "id": "1375ca3a-476a-42b2-9640-19efa4426023",
   "metadata": {},
   "outputs": [
    {
     "name": "stdin",
     "output_type": "stream",
     "text": [
      "Masukkan Kalimat:  es krim aya\n"
     ]
    },
    {
     "name": "stdout",
     "output_type": "stream",
     "text": [
      "es krim aya\n",
      "es krim aya\n",
      "es krim aya\n",
      "es krim aya\n",
      "es krim aya\n"
     ]
    }
   ],
   "source": [
    "sentence = input(\"Masukkan Kalimat: \")\n",
    "for _ in range(5):\n",
    "    print(sentence)"
   ]
  },
  {
   "cell_type": "markdown",
   "id": "a41849c4-a115-454f-8191-1f156cb3cc19",
   "metadata": {},
   "source": [
    "20. Buat program untuk menghitung jumlah angka dari 1 sampai N"
   ]
  },
  {
   "cell_type": "code",
   "execution_count": 48,
   "id": "9433da76-4d32-4bee-a9ea-0d34104e558f",
   "metadata": {},
   "outputs": [
    {
     "name": "stdout",
     "output_type": "stream",
     "text": [
      "Sum dari 1 to 10 adalah 55\n"
     ]
    }
   ],
   "source": [
    "N = 10\n",
    "total_sum = sum(range(1, N + 1))\n",
    "print(f\"Sum dari 1 to {N} adalah {total_sum}\")"
   ]
  },
  {
   "cell_type": "markdown",
   "id": "ba08ef44-a23f-4f42-af09-0cfea5813557",
   "metadata": {},
   "source": [
    "21. Buat program yang menggunakan break untuk keluar dari loop jika kondisi tertentu terpenuhi"
   ]
  },
  {
   "cell_type": "code",
   "execution_count": 49,
   "id": "38526e5a-8321-46d8-a0ed-703e8eaba93a",
   "metadata": {},
   "outputs": [
    {
     "name": "stdout",
     "output_type": "stream",
     "text": [
      "1\n",
      "2\n",
      "3\n",
      "4\n"
     ]
    }
   ],
   "source": [
    "for i in range(1, 11):\n",
    "    if i == 5:\n",
    "        break\n",
    "    print(i)"
   ]
  },
  {
   "cell_type": "markdown",
   "id": "8a853616-a7b0-4474-b633-4522f529b226",
   "metadata": {},
   "source": [
    "22. Buat program yang menampilkan tabel perkalian 1 sampai 10"
   ]
  },
  {
   "cell_type": "code",
   "execution_count": 50,
   "id": "d914eb89-26d2-46df-aff4-ca6b9f030a1b",
   "metadata": {},
   "outputs": [
    {
     "name": "stdout",
     "output_type": "stream",
     "text": [
      "1\n",
      "2\n",
      "3\n",
      "4\n",
      "6\n",
      "7\n",
      "8\n",
      "9\n",
      "10\n"
     ]
    }
   ],
   "source": [
    "for i in range(1, 11):\n",
    "    if i == 5:\n",
    "        continue\n",
    "    print(i)"
   ]
  },
  {
   "cell_type": "markdown",
   "id": "ffa1b650-6f60-4b0f-a539-ddc513f6e9ab",
   "metadata": {},
   "source": [
    "23. Buat program untuk menghitung jumlah bilangan ganjil antara dua bilangan yang diberikan"
   ]
  },
  {
   "cell_type": "code",
   "execution_count": 51,
   "id": "55b7b804-e628-480e-97ad-7e11104d0bf1",
   "metadata": {},
   "outputs": [
    {
     "name": "stdout",
     "output_type": "stream",
     "text": [
      "Sum of odd numbers between 1 and 10 is 25\n"
     ]
    }
   ],
   "source": [
    "start = 1\n",
    "end = 10\n",
    "sum_odds = sum(i for i in range(start, end + 1) if i % 2 != 0)\n",
    "print(f\"Sum of odd numbers between {start} and {end} is {sum_odds}\")"
   ]
  },
  {
   "cell_type": "markdown",
   "id": "76556938-1663-4454-b3c7-c2c2e385413b",
   "metadata": {},
   "source": [
    "24. Buat fungsi untuk menghitung luas segitiga"
   ]
  },
  {
   "cell_type": "code",
   "execution_count": 52,
   "id": "4825fb18-d396-488f-b4bc-691575728912",
   "metadata": {},
   "outputs": [
    {
     "name": "stdout",
     "output_type": "stream",
     "text": [
      "25.0\n"
     ]
    }
   ],
   "source": [
    "def triangle_area(base, height):\n",
    "    return 0.5 * base * height\n",
    "\n",
    "print(triangle_area(10, 5))"
   ]
  },
  {
   "cell_type": "markdown",
   "id": "310d7bd9-1c0b-48c9-9e7a-af0d3dfbbb66",
   "metadata": {},
   "source": [
    "25. Buat fungsi yang menerima nama dan menampilkan \"Halo, [nama]\""
   ]
  },
  {
   "cell_type": "code",
   "execution_count": 53,
   "id": "e7afdb39-1389-4158-b84c-abb8fa89587f",
   "metadata": {},
   "outputs": [
    {
     "name": "stdout",
     "output_type": "stream",
     "text": [
      "Halo, Alice\n"
     ]
    }
   ],
   "source": [
    "def greet(name):\n",
    "    print(f\"Halo, {name}\")\n",
    "\n",
    "greet(\"Alice\")"
   ]
  },
  {
   "cell_type": "markdown",
   "id": "fde9627a-da7c-42ae-a587-a4254ad395a6",
   "metadata": {},
   "source": [
    "26. Buat fungsi untuk memeriksa apakah suatu angka adalah bilangan prima"
   ]
  },
  {
   "cell_type": "code",
   "execution_count": 54,
   "id": "a8cd455a-d1ee-4eae-8b15-d051f02a2800",
   "metadata": {},
   "outputs": [
    {
     "name": "stdout",
     "output_type": "stream",
     "text": [
      "True\n"
     ]
    }
   ],
   "source": [
    "def is_prime(n):\n",
    "    if n <= 1:\n",
    "        return False\n",
    "    for i in range(2, int(n**0.5) + 1):\n",
    "        if n % i == 0:\n",
    "            return False\n",
    "    return True\n",
    "\n",
    "print(is_prime(7))"
   ]
  },
  {
   "cell_type": "markdown",
   "id": "51483d06-c8c1-47f8-a02d-967b5f5b7ac2",
   "metadata": {},
   "source": [
    "27. Buat fungsi yang mengembalikan nilai maksimum dari tiga angka"
   ]
  },
  {
   "cell_type": "code",
   "execution_count": 55,
   "id": "9f46b9bb-6b87-424a-8596-99ab106a1215",
   "metadata": {},
   "outputs": [
    {
     "name": "stdout",
     "output_type": "stream",
     "text": [
      "7\n"
     ]
    }
   ],
   "source": [
    "def max_of_three(a, b, c):\n",
    "    return max(a, b, c)\n",
    "\n",
    "print(max_of_three(3, 7, 5))"
   ]
  },
  {
   "cell_type": "markdown",
   "id": "5ed30f48-eccb-4242-9a4a-8f150a421d7c",
   "metadata": {},
   "source": [
    "28. Buat fungsi yang mengkonversi suhu dari Celcius ke Fahrenheit"
   ]
  },
  {
   "cell_type": "code",
   "execution_count": 56,
   "id": "0b51b85e-d7ce-45ff-b12e-958b3e6ad948",
   "metadata": {},
   "outputs": [
    {
     "name": "stdout",
     "output_type": "stream",
     "text": [
      "86.0\n"
     ]
    }
   ],
   "source": [
    "def celsius_ke_fahrenheit(celsius):\n",
    "    return (celsius * 9/5) + 32\n",
    "\n",
    "print(celsius_ke_fahrenheit(30))"
   ]
  },
  {
   "cell_type": "markdown",
   "id": "1d2f32ec-9f65-4232-b720-96d07d579d04",
   "metadata": {},
   "source": [
    "29. Buat fungsi yang menerima dua string dan menggabungkannya."
   ]
  },
  {
   "cell_type": "code",
   "execution_count": 3,
   "id": "3b41bf01-7967-4dbc-8398-783d10d58a7d",
   "metadata": {},
   "outputs": [
    {
     "name": "stdout",
     "output_type": "stream",
     "text": [
      "Hello, World!\n"
     ]
    }
   ],
   "source": [
    "def gabung(str1, str2):\n",
    "    return str1 + str2\n",
    "\n",
    "print(gabung(\"Hello, \", \"World!\"))"
   ]
  },
  {
   "cell_type": "markdown",
   "id": "a219782a-99e2-44b8-9c26-530a8a7fa7b8",
   "metadata": {},
   "source": [
    "30. Buat fungsi rekursif untuk menghitung faktorial dari suatu angka."
   ]
  },
  {
   "cell_type": "code",
   "execution_count": 57,
   "id": "7bbc62a3-4c2e-49a2-9287-9abb6d30c3f8",
   "metadata": {},
   "outputs": [
    {
     "name": "stdout",
     "output_type": "stream",
     "text": [
      "120\n"
     ]
    }
   ],
   "source": [
    "def factorial(n):\n",
    "    if n == 0:\n",
    "        return 1\n",
    "    else:\n",
    "        return n * factorial(n-1)\n",
    "\n",
    "print(factorial(5))"
   ]
  },
  {
   "cell_type": "markdown",
   "id": "9067cf7d-edf9-43b4-9a0a-cd5102d36112",
   "metadata": {},
   "source": [
    "31. Buat fungsi untuk menghitung total bilangan dalam sebuah list"
   ]
  },
  {
   "cell_type": "code",
   "execution_count": 58,
   "id": "f7a42068-55d7-496f-8978-ceb3fe7019cf",
   "metadata": {},
   "outputs": [
    {
     "name": "stdout",
     "output_type": "stream",
     "text": [
      "15\n"
     ]
    }
   ],
   "source": [
    "def sum_list(numbers):\n",
    "    return sum(numbers)\n",
    "\n",
    "print(sum_list([1, 2, 3, 4, 5]))"
   ]
  },
  {
   "cell_type": "markdown",
   "id": "d00f9691-5a68-41b4-8299-372c6853b571",
   "metadata": {},
   "source": [
    "32. Buat program yang membuat list dari 5 nama."
   ]
  },
  {
   "cell_type": "code",
   "execution_count": 59,
   "id": "2c3f1cb7-1b34-4e9a-b38b-bc9b2785f5e9",
   "metadata": {},
   "outputs": [],
   "source": [
    "names = [\"Alice\", \"Bob\", \"Charlie\", \"David\", \"Eve\"]"
   ]
  },
  {
   "cell_type": "markdown",
   "id": "b3dc04b6-e379-4a35-a156-1bb1c2c68a03",
   "metadata": {},
   "source": [
    "33. Buat program untuk mengakses elemen pertama dan terakhir dari sebuah list"
   ]
  },
  {
   "cell_type": "code",
   "execution_count": 60,
   "id": "47e017dc-990a-446d-8c1e-cc18effdc985",
   "metadata": {},
   "outputs": [
    {
     "name": "stdout",
     "output_type": "stream",
     "text": [
      "Alice\n",
      "Eve\n"
     ]
    }
   ],
   "source": [
    "print(names[0])\n",
    "print(names[-1])"
   ]
  },
  {
   "cell_type": "markdown",
   "id": "a15c47fd-0adc-4b82-a239-c0b5b5b7aafd",
   "metadata": {},
   "source": [
    "34. Buat program untuk menambahkan elemen baru ke list"
   ]
  },
  {
   "cell_type": "code",
   "execution_count": 61,
   "id": "6d3fcdff-4501-4f1b-ae23-d7ac3bd25a9f",
   "metadata": {},
   "outputs": [
    {
     "name": "stdout",
     "output_type": "stream",
     "text": [
      "['Alice', 'Bob', 'Charlie', 'David', 'Eve', 'Frank']\n"
     ]
    }
   ],
   "source": [
    "names.append(\"Frank\")\n",
    "print(names)"
   ]
  },
  {
   "cell_type": "markdown",
   "id": "c8de2885-1c59-4f97-8baf-eec85961ba2b",
   "metadata": {},
   "source": [
    "35. Buat program untuk menghapus elemen tertentu dari list"
   ]
  },
  {
   "cell_type": "code",
   "execution_count": 62,
   "id": "8ba5604a-5f24-49b6-b14f-e8bed6e72b45",
   "metadata": {},
   "outputs": [
    {
     "name": "stdout",
     "output_type": "stream",
     "text": [
      "['Alice', 'Bob', 'David', 'Eve', 'Frank']\n"
     ]
    }
   ],
   "source": [
    "names.remove(\"Charlie\")\n",
    "print(names)"
   ]
  },
  {
   "cell_type": "markdown",
   "id": "d5814598-5667-4998-8dc7-51c39090ce61",
   "metadata": {},
   "source": [
    "36. Buat program yang menghitung jumlah elemen dalam list."
   ]
  },
  {
   "cell_type": "code",
   "execution_count": 63,
   "id": "b589af41-f38d-45ca-895c-499a0f3ec555",
   "metadata": {},
   "outputs": [
    {
     "name": "stdout",
     "output_type": "stream",
     "text": [
      "5\n"
     ]
    }
   ],
   "source": [
    "print(len(names))"
   ]
  },
  {
   "cell_type": "markdown",
   "id": "b087c041-ad0f-4663-990e-bcef620a422a",
   "metadata": {},
   "source": [
    "37. Buat program yang mengurutkan list angka secara ascending."
   ]
  },
  {
   "cell_type": "code",
   "execution_count": 64,
   "id": "dad0b51c-bb4c-4818-bdcf-25ad9f41d69c",
   "metadata": {},
   "outputs": [
    {
     "name": "stdout",
     "output_type": "stream",
     "text": [
      "[1, 1, 3, 4, 5]\n"
     ]
    }
   ],
   "source": [
    "numbers = [3, 1, 4, 1, 5]\n",
    "numbers.sort()\n",
    "print(numbers)"
   ]
  },
  {
   "cell_type": "markdown",
   "id": "9dd51279-324c-43fb-90b4-ed9bb2c82346",
   "metadata": {},
   "source": [
    "38. Buat program untuk membuat tuple yang berisi 5 bilangan."
   ]
  },
  {
   "cell_type": "code",
   "execution_count": 65,
   "id": "01125e4b-e884-4e74-aca8-cb44034aa336",
   "metadata": {},
   "outputs": [],
   "source": [
    "numbers_tuple = (1, 2, 3, 4, 5)"
   ]
  },
  {
   "cell_type": "markdown",
   "id": "908477d2-310b-419d-bba9-31d81332ff1a",
   "metadata": {},
   "source": [
    "39. Buat program untuk memeriksa apakah elemen ada dalam tuple."
   ]
  },
  {
   "cell_type": "code",
   "execution_count": 66,
   "id": "3d5e0918-7ddf-4d5a-bcc2-39cc35b36db3",
   "metadata": {},
   "outputs": [
    {
     "name": "stdout",
     "output_type": "stream",
     "text": [
      "True\n"
     ]
    }
   ],
   "source": [
    "print(3 in numbers_tuple)  # Output: True"
   ]
  },
  {
   "cell_type": "markdown",
   "id": "6328d917-5cd3-4084-8ac4-86852897e8ef",
   "metadata": {},
   "source": [
    "40. Buat dictionary untuk menyimpan nama dan nilai siswa."
   ]
  },
  {
   "cell_type": "code",
   "execution_count": 67,
   "id": "72377a2a-5671-46a0-a158-f56cd821a37f",
   "metadata": {},
   "outputs": [],
   "source": [
    "students = {\"Alice\": 85, \"Bob\": 90, \"Charlie\": 78}"
   ]
  },
  {
   "cell_type": "markdown",
   "id": "c2be4a63-2823-4ed6-bdf2-6cacf7bfc525",
   "metadata": {},
   "source": [
    "41. Buat program untuk menampilkan nilai seorang siswa dari dictionary"
   ]
  },
  {
   "cell_type": "code",
   "execution_count": 68,
   "id": "a6210fd6-5d8d-4bf9-af29-99e9b47348c8",
   "metadata": {},
   "outputs": [
    {
     "name": "stdout",
     "output_type": "stream",
     "text": [
      "85\n"
     ]
    }
   ],
   "source": [
    "print(students[\"Alice\"])"
   ]
  },
  {
   "cell_type": "markdown",
   "id": "01292539-788d-403e-9d1f-1346bb9871e3",
   "metadata": {},
   "source": [
    "42. Buat program untuk menambahkan siswa baru ke dictionary."
   ]
  },
  {
   "cell_type": "code",
   "execution_count": 69,
   "id": "bfd79881-466b-4e5c-bcfa-6e22651e5123",
   "metadata": {},
   "outputs": [
    {
     "name": "stdout",
     "output_type": "stream",
     "text": [
      "{'Alice': 85, 'Bob': 90, 'Charlie': 78, 'David': 88}\n"
     ]
    }
   ],
   "source": [
    "students[\"David\"] = 88\n",
    "print(students)"
   ]
  },
  {
   "cell_type": "markdown",
   "id": "1ddd4888-95c7-4536-b1f8-dfb036b34bdd",
   "metadata": {},
   "source": [
    "43. Buat program yang menghapus entri dari dictionary berdasarkan nama siswa."
   ]
  },
  {
   "cell_type": "code",
   "execution_count": 70,
   "id": "d0914a88-6a8c-475b-81b4-f193cd287607",
   "metadata": {},
   "outputs": [
    {
     "name": "stdout",
     "output_type": "stream",
     "text": [
      "{'Alice': 85, 'Charlie': 78, 'David': 88}\n"
     ]
    }
   ],
   "source": [
    "del students[\"Bob\"]\n",
    "print(students)"
   ]
  },
  {
   "cell_type": "markdown",
   "id": "670f7aef-6056-4b58-a9b4-f3dc4b9b2937",
   "metadata": {},
   "source": [
    "44. Buat program untuk mengupdate nilai siswa dalam dictionary."
   ]
  },
  {
   "cell_type": "code",
   "execution_count": 71,
   "id": "afa6e316-5970-4f1f-b5c6-2a37a5b35760",
   "metadata": {},
   "outputs": [
    {
     "name": "stdout",
     "output_type": "stream",
     "text": [
      "{'Alice': 95, 'Charlie': 78, 'David': 88}\n"
     ]
    }
   ],
   "source": [
    "students[\"Alice\"] = 95\n",
    "print(students)"
   ]
  },
  {
   "cell_type": "markdown",
   "id": "0269423f-4cdc-4d67-a727-8849b0acb10e",
   "metadata": {},
   "source": [
    "45. Buat program yang menampilkan semua nama siswa dari dictionary."
   ]
  },
  {
   "cell_type": "code",
   "execution_count": 72,
   "id": "efe9598e-b80a-475f-a473-21522f0d686d",
   "metadata": {},
   "outputs": [
    {
     "name": "stdout",
     "output_type": "stream",
     "text": [
      "dict_keys(['Alice', 'Charlie', 'David'])\n"
     ]
    }
   ],
   "source": [
    "print(students.keys())"
   ]
  },
  {
   "cell_type": "markdown",
   "id": "bf85afc5-d244-4895-ac83-7de6ba2ed2e9",
   "metadata": {},
   "source": [
    "46. Buat program yang menampilkan semua nilai siswa dari dictionary"
   ]
  },
  {
   "cell_type": "code",
   "execution_count": 73,
   "id": "cba2f375-6704-418d-b768-4c469a1c1b80",
   "metadata": {},
   "outputs": [
    {
     "name": "stdout",
     "output_type": "stream",
     "text": [
      "dict_values([95, 78, 88])\n"
     ]
    }
   ],
   "source": [
    "print(students.values())"
   ]
  },
  {
   "cell_type": "markdown",
   "id": "e56a94ea-c5a1-432f-ad1a-585785d3a24e",
   "metadata": {},
   "source": [
    "48. Buat program untuk mengubah nilai menjadi list dari sebuah dictionary."
   ]
  },
  {
   "cell_type": "code",
   "execution_count": 74,
   "id": "7f501bac-b4f6-4f67-901e-e194185defd9",
   "metadata": {},
   "outputs": [
    {
     "name": "stdout",
     "output_type": "stream",
     "text": [
      "[95, 78, 88]\n"
     ]
    }
   ],
   "source": [
    "scores_list = list(students.values())\n",
    "print(scores_list)"
   ]
  },
  {
   "cell_type": "markdown",
   "id": "812c86bf-0968-4579-9fe6-c4b67bb2690c",
   "metadata": {},
   "source": [
    "Set"
   ]
  },
  {
   "cell_type": "markdown",
   "id": "94250881-4191-4517-a22e-049e4d75c466",
   "metadata": {},
   "source": [
    "49. Buat program untuk membuat set yang berisi angka-angka unik."
   ]
  },
  {
   "cell_type": "code",
   "execution_count": 75,
   "id": "0b5abf1f-dff8-451d-80aa-b3a9036e7897",
   "metadata": {},
   "outputs": [],
   "source": [
    "unique_numbers = {1, 2, 3, 4, 5}"
   ]
  },
  {
   "cell_type": "markdown",
   "id": "62b885fe-9d62-4e69-b601-0c59b9b5e490",
   "metadata": {},
   "source": [
    "50. Buat program yang menambahkan elemen baru ke dalam set."
   ]
  },
  {
   "cell_type": "code",
   "execution_count": 76,
   "id": "a7307119-1f83-457c-a994-0f2fdb515248",
   "metadata": {},
   "outputs": [
    {
     "name": "stdout",
     "output_type": "stream",
     "text": [
      "{1, 2, 3, 4, 5, 6}\n"
     ]
    }
   ],
   "source": [
    "unique_numbers.add(6)\n",
    "print(unique_numbers)"
   ]
  },
  {
   "cell_type": "markdown",
   "id": "ea061619-939d-49ba-afff-861db4d9d70a",
   "metadata": {},
   "source": [
    "51. Buat program yang menghapus elemen dari set"
   ]
  },
  {
   "cell_type": "code",
   "execution_count": 77,
   "id": "ddbf5f91-a549-4797-acd8-3f18f8a2bc31",
   "metadata": {},
   "outputs": [
    {
     "name": "stdout",
     "output_type": "stream",
     "text": [
      "{1, 2, 4, 5, 6}\n"
     ]
    }
   ],
   "source": [
    "unique_numbers.remove(3)\n",
    "print(unique_numbers)"
   ]
  },
  {
   "cell_type": "markdown",
   "id": "348d04dc-271d-41a7-badc-95a65abf8a31",
   "metadata": {},
   "source": [
    "52. Buat program yang menampilkan irisan dari dua set."
   ]
  },
  {
   "cell_type": "code",
   "execution_count": 78,
   "id": "4c1c6d0c-5ed4-45a9-8a7f-5316508e737e",
   "metadata": {},
   "outputs": [
    {
     "name": "stdout",
     "output_type": "stream",
     "text": [
      "{2, 3}\n"
     ]
    }
   ],
   "source": [
    "set1 = {1, 2, 3}\n",
    "set2 = {2, 3, 4}\n",
    "print(set1.intersection(set2))"
   ]
  },
  {
   "cell_type": "markdown",
   "id": "cce74967-64b5-4c2b-8719-3dad355c94fc",
   "metadata": {},
   "source": [
    "53. Buat program yang menampilkan gabungan dari dua set."
   ]
  },
  {
   "cell_type": "code",
   "execution_count": 79,
   "id": "65c2ac32-7bb2-489f-961e-0fa0a582c3fd",
   "metadata": {},
   "outputs": [
    {
     "name": "stdout",
     "output_type": "stream",
     "text": [
      "{1, 2, 3, 4}\n"
     ]
    }
   ],
   "source": [
    "print(set1.union(set2))"
   ]
  },
  {
   "cell_type": "markdown",
   "id": "1f994004-0b8a-49d9-991e-ecd24b97efce",
   "metadata": {},
   "source": [
    "54. Buat program yang mengecek apakah satu set merupakan subset dari set lain"
   ]
  },
  {
   "cell_type": "code",
   "execution_count": 80,
   "id": "751e67e9-f150-4213-98d7-3ca44446a735",
   "metadata": {},
   "outputs": [
    {
     "name": "stdout",
     "output_type": "stream",
     "text": [
      "False\n"
     ]
    }
   ],
   "source": [
    "print(set1.issubset(set2))"
   ]
  },
  {
   "cell_type": "markdown",
   "id": "6d53792c-6d98-4413-8dc1-8bbd28219db5",
   "metadata": {},
   "source": [
    "55. Buat program yang menampilkan perbedaan dari dua set."
   ]
  },
  {
   "cell_type": "code",
   "execution_count": 81,
   "id": "4c85f25c-51b3-4fc2-ad3e-5749e91e2e91",
   "metadata": {},
   "outputs": [
    {
     "name": "stdout",
     "output_type": "stream",
     "text": [
      "{1}\n"
     ]
    }
   ],
   "source": [
    "print(set1.difference(set2))"
   ]
  },
  {
   "cell_type": "markdown",
   "id": "1870bcc5-2ce0-4c9a-9db7-1806de3622ed",
   "metadata": {},
   "source": [
    "56. Buat program untuk menghitung elemen unik dalam sebuah list menggunakan set."
   ]
  },
  {
   "cell_type": "code",
   "execution_count": 82,
   "id": "2e38ec86-2b85-4a17-abb2-05a87109b3af",
   "metadata": {},
   "outputs": [
    {
     "name": "stdout",
     "output_type": "stream",
     "text": [
      "5\n"
     ]
    }
   ],
   "source": [
    "numbers = [1, 2, 2, 3, 4, 4, 4, 5]\n",
    "unique_numbers = set(numbers)\n",
    "print(len(unique_numbers))"
   ]
  },
  {
   "cell_type": "markdown",
   "id": "48504a22-5bfb-40a4-9424-0cbd6e2d318c",
   "metadata": {},
   "source": [
    "File Handling"
   ]
  },
  {
   "cell_type": "markdown",
   "id": "ef3f58e4-0d98-45f7-a285-1f0a942f3e8b",
   "metadata": {},
   "source": [
    "57. Buat program yang membuat dan menulis teks ke dalam file."
   ]
  },
  {
   "cell_type": "code",
   "execution_count": 83,
   "id": "344d6ccb-6cd7-4712-976d-bf7a2ea4e249",
   "metadata": {},
   "outputs": [],
   "source": [
    "with open(\"example.txt\", \"w\") as file:\n",
    "    file.write(\"Hello, world!\")"
   ]
  },
  {
   "cell_type": "markdown",
   "id": "2ee02b31-0ad4-406f-a84e-043e43788987",
   "metadata": {},
   "source": [
    "58. Buat program yang membaca isi dari file teks."
   ]
  },
  {
   "cell_type": "code",
   "execution_count": 7,
   "id": "c5609d16-3c71-417c-bcff-58e03597ca95",
   "metadata": {},
   "outputs": [
    {
     "name": "stdout",
     "output_type": "stream",
     "text": [
      "Hello, world!\n"
     ]
    }
   ],
   "source": [
    "with open(\"example.txt\", \"r\") as file:\n",
    "    content = file.read()\n",
    "    print(content)"
   ]
  },
  {
   "cell_type": "markdown",
   "id": "9e73d8f4-070b-4101-97df-ed0b5ee4a69f",
   "metadata": {},
   "source": [
    "59. Buat program untuk menambahkan teks baru ke file yang sudah ada."
   ]
  },
  {
   "cell_type": "code",
   "execution_count": 85,
   "id": "06a58978-db58-4471-82a4-111719866a34",
   "metadata": {},
   "outputs": [],
   "source": [
    "with open(\"example.txt\", \"a\") as file:\n",
    "    file.write(\"\\nNew line added.\")"
   ]
  },
  {
   "cell_type": "markdown",
   "id": "ae310a47-19e0-4c45-88f4-036c8e3e7667",
   "metadata": {},
   "source": [
    "60. Buat program yang menampilkan isi file baris per baris"
   ]
  },
  {
   "cell_type": "code",
   "execution_count": 84,
   "id": "b18c7ac3-26d3-45c4-aef9-32b092d74c04",
   "metadata": {},
   "outputs": [
    {
     "name": "stdout",
     "output_type": "stream",
     "text": [
      "Hello, world!"
     ]
    }
   ],
   "source": [
    "with open(\"example.txt\", \"r\") as file:\n",
    "    for line in file:\n",
    "        print(line, end=\"\")"
   ]
  },
  {
   "cell_type": "markdown",
   "id": "c0e00152-e07c-47fc-af92-645a1f1919a0",
   "metadata": {},
   "source": [
    "61. Buat program yang menghitung jumlah kata dalam sebuah file."
   ]
  },
  {
   "cell_type": "code",
   "execution_count": 10,
   "id": "162d30ae-813a-4711-bd71-788ac528a2c7",
   "metadata": {},
   "outputs": [
    {
     "name": "stdout",
     "output_type": "stream",
     "text": [
      "5\n"
     ]
    }
   ],
   "source": [
    "with open(\"example.txt\", \"r\") as file:\n",
    "    content = file.read()\n",
    "    word_count = len(content.split())\n",
    "    print(word_count)"
   ]
  },
  {
   "cell_type": "markdown",
   "id": "6d434eac-e9a2-4392-82e9-6bc43eb990eb",
   "metadata": {},
   "source": [
    "62. Buat program untuk menghapus file"
   ]
  },
  {
   "cell_type": "code",
   "execution_count": 86,
   "id": "969d548f-2532-45d1-a2e7-289a00973104",
   "metadata": {},
   "outputs": [],
   "source": [
    "import os\n",
    "os.remove(\"example.txt\")"
   ]
  },
  {
   "cell_type": "markdown",
   "id": "bbe2ca9f-14bd-40fd-8797-22e30f560eca",
   "metadata": {},
   "source": [
    "63. Buat program yang memeriksa apakah sebuah file ada atau tidak"
   ]
  },
  {
   "cell_type": "code",
   "execution_count": 87,
   "id": "96c2665a-18a4-41ac-9adf-ef8daf28257a",
   "metadata": {},
   "outputs": [
    {
     "name": "stdout",
     "output_type": "stream",
     "text": [
      "File does not exist\n"
     ]
    }
   ],
   "source": [
    "if os.path.exists(\"example.txt\"):\n",
    "    print(\"File exists\")\n",
    "else:\n",
    "    print(\"File does not exist\")"
   ]
  },
  {
   "cell_type": "markdown",
   "id": "c9945b03-28f0-48a0-9e5f-94911c911807",
   "metadata": {},
   "source": [
    "64. Buat program yang meng-copy isi file ke file lain"
   ]
  },
  {
   "cell_type": "code",
   "execution_count": 88,
   "id": "e40263af-5c1b-4178-b599-f28f5f31b700",
   "metadata": {},
   "outputs": [],
   "source": [
    "with open(\"example.txt\", \"w\") as file:\n",
    "    file.write(\"Hello, world!\")\n",
    "\n",
    "with open(\"example.txt\", \"r\") as src:\n",
    "    with open(\"copy.txt\", \"w\") as dst:\n",
    "        dst.write(src.read())"
   ]
  },
  {
   "cell_type": "markdown",
   "id": "2b7b91f4-c8ca-4121-9f8b-d8ee474dde78",
   "metadata": {},
   "source": [
    "List Comprehension"
   ]
  },
  {
   "cell_type": "markdown",
   "id": "18c27881-284c-4bc1-929a-9497b8428fe1",
   "metadata": {},
   "source": [
    "65. Buat program untuk membuat list dari angka 1 sampai 10 menggunakan list comprehension."
   ]
  },
  {
   "cell_type": "code",
   "execution_count": 89,
   "id": "1c45ab91-7714-4d09-a0cd-7d4f0dfb8285",
   "metadata": {},
   "outputs": [
    {
     "name": "stdout",
     "output_type": "stream",
     "text": [
      "[1, 2, 3, 4, 5, 6, 7, 8, 9, 10]\n"
     ]
    }
   ],
   "source": [
    "numbers = [x for x in range(1, 11)]\n",
    "print(numbers)"
   ]
  },
  {
   "cell_type": "markdown",
   "id": "bcf03e7a-9d63-4848-b00f-345b844ae670",
   "metadata": {},
   "source": [
    "66. Buat program untuk membuat list bilangan genap dari 1 sampai 20."
   ]
  },
  {
   "cell_type": "code",
   "execution_count": 90,
   "id": "56748dfc-75bb-403c-87c5-3d4a9a31e100",
   "metadata": {},
   "outputs": [
    {
     "name": "stdout",
     "output_type": "stream",
     "text": [
      "[2, 4, 6, 8, 10, 12, 14, 16, 18, 20]\n"
     ]
    }
   ],
   "source": [
    "evens = [x for x in range(1, 21) if x % 2 == 0]\n",
    "print(evens)"
   ]
  },
  {
   "cell_type": "markdown",
   "id": "713b4f0a-ffac-4c8c-925c-3546a5ec7aa7",
   "metadata": {},
   "source": [
    "67. Buat program untuk membuat list bilangan kuadrat dari 1 sampai 10."
   ]
  },
  {
   "cell_type": "code",
   "execution_count": 91,
   "id": "47e286db-c24a-4226-b9b9-184b9b0d076a",
   "metadata": {},
   "outputs": [
    {
     "name": "stdout",
     "output_type": "stream",
     "text": [
      "[1, 4, 9, 16, 25, 36, 49, 64, 81, 100]\n"
     ]
    }
   ],
   "source": [
    "squares = [x**2 for x in range(1, 11)]\n",
    "print(squares)"
   ]
  },
  {
   "cell_type": "markdown",
   "id": "8e30645a-e669-40c4-8cd5-f109324e8861",
   "metadata": {},
   "source": [
    "68. Buat program untuk mengubah setiap elemen dalam list menjadi huruf besar."
   ]
  },
  {
   "cell_type": "code",
   "execution_count": 92,
   "id": "f39d5b6b-656e-46c4-b839-9e81fb8d8542",
   "metadata": {},
   "outputs": [
    {
     "name": "stdout",
     "output_type": "stream",
     "text": [
      "['HELLO', 'WORLD']\n"
     ]
    }
   ],
   "source": [
    "words = [\"hello\", \"world\"]\n",
    "upper_words = [word.upper() for word in words]\n",
    "print(upper_words)"
   ]
  },
  {
   "cell_type": "markdown",
   "id": "6a99cb1a-7ea1-40f5-8d5b-8a38deccd7ce",
   "metadata": {},
   "source": [
    "69. Buat program yang menyaring elemen dalam list jika lebih besar dari 5."
   ]
  },
  {
   "cell_type": "code",
   "execution_count": 93,
   "id": "8091dca9-4be1-4bc7-91c9-65ad4d09111d",
   "metadata": {},
   "outputs": [
    {
     "name": "stdout",
     "output_type": "stream",
     "text": [
      "[6, 7, 8]\n"
     ]
    }
   ],
   "source": [
    "numbers = [1, 2, 3, 6, 7, 8]\n",
    "filtered = [x for x in numbers if x > 5]\n",
    "print(filtered)"
   ]
  },
  {
   "cell_type": "markdown",
   "id": "f2bc8a9c-f7cb-4119-b310-eb94e4c89af2",
   "metadata": {},
   "source": [
    "70. Buat program untuk membuat list huruf vokal dari string"
   ]
  },
  {
   "cell_type": "code",
   "execution_count": 18,
   "id": "2fb35c7d-9c6f-43e7-8852-05adc19d9991",
   "metadata": {},
   "outputs": [
    {
     "name": "stdout",
     "output_type": "stream",
     "text": [
      "['e', 'o', 'o']\n"
     ]
    }
   ],
   "source": [
    "string = \"hello world\"\n",
    "vowels = [char for char in string if char in 'aeiou']\n",
    "print(vowels)"
   ]
  },
  {
   "cell_type": "markdown",
   "id": "4f054cfc-0932-4e9b-bb04-142952f8f55d",
   "metadata": {
    "tags": []
   },
   "source": [
    "71. Buat program yang menangkap kesalahan pembagian dengan nol"
   ]
  },
  {
   "cell_type": "markdown",
   "id": "3390957f-c0c0-42ef-b117-b768cb3939b9",
   "metadata": {},
   "source": [
    "Exception"
   ]
  },
  {
   "cell_type": "code",
   "execution_count": 14,
   "id": "661b69eb-7592-4dba-bae8-9fa3124443f1",
   "metadata": {
    "tags": []
   },
   "outputs": [
    {
     "ename": "ZeroDivisionError",
     "evalue": "division by zero",
     "output_type": "error",
     "traceback": [
      "\u001b[1;31m---------------------------------------------------------------------------\u001b[0m",
      "\u001b[1;31mZeroDivisionError\u001b[0m                         Traceback (most recent call last)",
      "Cell \u001b[1;32mIn[14], line 1\u001b[0m\n\u001b[1;32m----> 1\u001b[0m result \u001b[38;5;241m=\u001b[39m \u001b[38;5;241m10\u001b[39m\u001b[38;5;241m/\u001b[39m\u001b[38;5;241m0\u001b[39m\n\u001b[0;32m      2\u001b[0m \u001b[38;5;28mprint\u001b[39m(result)\n",
      "\u001b[1;31mZeroDivisionError\u001b[0m: division by zero"
     ]
    }
   ],
   "source": [
    "result = 10/0\n",
    "print(result)"
   ]
  },
  {
   "cell_type": "code",
   "execution_count": 15,
   "id": "653853b3-c004-4b89-8938-afd976b9eb00",
   "metadata": {},
   "outputs": [
    {
     "name": "stdout",
     "output_type": "stream",
     "text": [
      "Division by zero is not allowed\n"
     ]
    }
   ],
   "source": [
    "try:\n",
    "    result = 10 / 0\n",
    "except ZeroDivisionError:\n",
    "    print(\"Division by zero is not allowed\")"
   ]
  },
  {
   "cell_type": "markdown",
   "id": "a1af80fa-289a-457d-a185-7e6d2ad19590",
   "metadata": {},
   "source": [
    "72. Buat program yang menangkap kesalahan input yang bukan angka."
   ]
  },
  {
   "cell_type": "code",
   "execution_count": 16,
   "id": "d484d2e2-6948-4783-a81d-607e41617d02",
   "metadata": {},
   "outputs": [
    {
     "ename": "ValueError",
     "evalue": "invalid literal for int() with base 10: 'ini angka'",
     "output_type": "error",
     "traceback": [
      "\u001b[1;31m---------------------------------------------------------------------------\u001b[0m",
      "\u001b[1;31mValueError\u001b[0m                                Traceback (most recent call last)",
      "Cell \u001b[1;32mIn[16], line 2\u001b[0m\n\u001b[0;32m      1\u001b[0m angka \u001b[38;5;241m=\u001b[39m \u001b[38;5;124m'\u001b[39m\u001b[38;5;124mini angka\u001b[39m\u001b[38;5;124m'\u001b[39m\n\u001b[1;32m----> 2\u001b[0m \u001b[38;5;28mprint\u001b[39m(\u001b[38;5;28mint\u001b[39m(angka))\n",
      "\u001b[1;31mValueError\u001b[0m: invalid literal for int() with base 10: 'ini angka'"
     ]
    }
   ],
   "source": [
    "angka = 'ini angka'\n",
    "print(int(angka))"
   ]
  },
  {
   "cell_type": "code",
   "execution_count": 94,
   "id": "f564c85d-44a7-43e9-8e43-a462882551f4",
   "metadata": {},
   "outputs": [
    {
     "name": "stdout",
     "output_type": "stream",
     "text": [
      "\n"
     ]
    }
   ],
   "source": [
    "angka = 'ini angka'\n",
    "try:\n",
    "  angka = int(angka)\n",
    "except ValueError:\n",
    "  print(\"\")"
   ]
  },
  {
   "cell_type": "code",
   "execution_count": 96,
   "id": "b21ebb8d-b973-429f-9c16-c43ac9310ffd",
   "metadata": {},
   "outputs": [
    {
     "name": "stdin",
     "output_type": "stream",
     "text": [
      "Enter a number:  w\n"
     ]
    },
    {
     "name": "stdout",
     "output_type": "stream",
     "text": [
      "Input is not a valid number\n"
     ]
    }
   ],
   "source": [
    "try:\n",
    "    number = int(input(\"Enter a number: \"))\n",
    "except ValueError:\n",
    "    print(\"Input is not a valid number\")"
   ]
  },
  {
   "cell_type": "markdown",
   "id": "c5c794ab-a0f9-4555-be6b-6f12c1a6bfaf",
   "metadata": {},
   "source": [
    "73. Buat program yang menangkap kesalahan akses elemen list di luar indeks"
   ]
  },
  {
   "cell_type": "code",
   "execution_count": 97,
   "id": "1fa5ea20-852b-4e00-93a3-85b154e6d154",
   "metadata": {},
   "outputs": [
    {
     "name": "stdout",
     "output_type": "stream",
     "text": [
      "Index out of range\n"
     ]
    }
   ],
   "source": [
    "my_list = [1, 2, 3]\n",
    "try:\n",
    "    print(my_list[5])\n",
    "except IndexError:\n",
    "    print(\"Index out of range\")"
   ]
  },
  {
   "cell_type": "markdown",
   "id": "19e4e352-1a88-45f3-89da-72871b280316",
   "metadata": {},
   "source": [
    "74. Buat program yang menangani beberapa tipe kesalahan dengan exception yang berbeda."
   ]
  },
  {
   "cell_type": "code",
   "execution_count": 21,
   "id": "b3c95099-8c5f-468d-b75d-bd10d028ab48",
   "metadata": {
    "tags": []
   },
   "outputs": [
    {
     "name": "stdin",
     "output_type": "stream",
     "text": [
      "Enter a number:  w\n"
     ]
    },
    {
     "name": "stdout",
     "output_type": "stream",
     "text": [
      "Input is not a valid number\n"
     ]
    }
   ],
   "source": [
    "try:\n",
    "    result = 10 / int(input(\"Enter a number: \"))\n",
    "except ValueError:\n",
    "    print(\"Input is not a valid number\")\n",
    "except ZeroDivisionError:\n",
    "    print(\"Cannot divide by zero\")"
   ]
  },
  {
   "cell_type": "markdown",
   "id": "8f74e50c-2a21-4da2-b91f-fe90af6c355e",
   "metadata": {},
   "source": [
    "75. Buat program yang menggunakan `finally` untuk menampilkan pesan setelah exception."
   ]
  },
  {
   "cell_type": "code",
   "execution_count": 22,
   "id": "c711462e-051c-4661-b8c2-0213fb8a4d76",
   "metadata": {
    "tags": []
   },
   "outputs": [
    {
     "name": "stdout",
     "output_type": "stream",
     "text": [
      "Division by zero is not allowed\n",
      "This will execute regardless of an exception\n"
     ]
    }
   ],
   "source": [
    "try:\n",
    "    result = 10 / 0\n",
    "except ZeroDivisionError:\n",
    "    print(\"Division by zero is not allowed\")\n",
    "finally:\n",
    "    print(\"This will execute regardless of an exception\")"
   ]
  },
  {
   "cell_type": "markdown",
   "id": "f3038e5e-c12d-4f11-b3aa-796378e8c170",
   "metadata": {},
   "source": [
    "OOP (Object-Oriented Programming)"
   ]
  },
  {
   "cell_type": "markdown",
   "id": "0093ca64-45e6-4434-9e8d-f2c046d85e9e",
   "metadata": {},
   "source": [
    "76. Buat class `Mahasiswa` yang memiliki atribut nama dan umur."
   ]
  },
  {
   "cell_type": "code",
   "execution_count": 1,
   "id": "ee6c7549-91ec-4ec8-a03a-dc7d9514956d",
   "metadata": {},
   "outputs": [],
   "source": [
    "from sklearn.linear_model import LinearRegression"
   ]
  },
  {
   "cell_type": "code",
   "execution_count": 2,
   "id": "f81195cd-9af9-478e-9049-4a2696b77353",
   "metadata": {},
   "outputs": [
    {
     "ename": "TypeError",
     "evalue": "LinearRegression.fit() missing 2 required positional arguments: 'X' and 'y'",
     "output_type": "error",
     "traceback": [
      "\u001b[1;31m---------------------------------------------------------------------------\u001b[0m",
      "\u001b[1;31mTypeError\u001b[0m                                 Traceback (most recent call last)",
      "Cell \u001b[1;32mIn[2], line 1\u001b[0m\n\u001b[1;32m----> 1\u001b[0m LinearRegression()\u001b[38;5;241m.\u001b[39mfit()\n",
      "File \u001b[1;32m~\\anaconda3\\Lib\\site-packages\\sklearn\\base.py:1151\u001b[0m, in \u001b[0;36m_fit_context.<locals>.decorator.<locals>.wrapper\u001b[1;34m(estimator, *args, **kwargs)\u001b[0m\n\u001b[0;32m   1144\u001b[0m     estimator\u001b[38;5;241m.\u001b[39m_validate_params()\n\u001b[0;32m   1146\u001b[0m \u001b[38;5;28;01mwith\u001b[39;00m config_context(\n\u001b[0;32m   1147\u001b[0m     skip_parameter_validation\u001b[38;5;241m=\u001b[39m(\n\u001b[0;32m   1148\u001b[0m         prefer_skip_nested_validation \u001b[38;5;129;01mor\u001b[39;00m global_skip_validation\n\u001b[0;32m   1149\u001b[0m     )\n\u001b[0;32m   1150\u001b[0m ):\n\u001b[1;32m-> 1151\u001b[0m     \u001b[38;5;28;01mreturn\u001b[39;00m fit_method(estimator, \u001b[38;5;241m*\u001b[39margs, \u001b[38;5;241m*\u001b[39m\u001b[38;5;241m*\u001b[39mkwargs)\n",
      "\u001b[1;31mTypeError\u001b[0m: LinearRegression.fit() missing 2 required positional arguments: 'X' and 'y'"
     ]
    }
   ],
   "source": [
    "LinearRegression().fit()"
   ]
  },
  {
   "cell_type": "code",
   "execution_count": 34,
   "id": "92172a7d-ae1e-4b76-a4ec-31136b1f01a0",
   "metadata": {},
   "outputs": [],
   "source": [
    "class Mahasiswa:\n",
    "    def __init__(self, nama, umur):\n",
    "        self.nama = nama\n",
    "        self.umur = umur"
   ]
  },
  {
   "cell_type": "markdown",
   "id": "6b4610b8-38e7-419f-af53-dadb54c53b39",
   "metadata": {},
   "source": [
    "77. Buat method dalam class untuk menampilkan informasi mahasiswa."
   ]
  },
  {
   "cell_type": "code",
   "execution_count": 4,
   "id": "e9cea919-ea68-4e32-89db-d249272b20d1",
   "metadata": {},
   "outputs": [],
   "source": [
    "class Mahasiswa:\n",
    "    def __init__(self, nama, umur, jenis_kelamin):\n",
    "        self.nama = nama\n",
    "        self.u = umur\n",
    "        self.jk = jenis_kelamin\n",
    "\n",
    "    def tampilkan_informasi(self):\n",
    "        print(f\"Nama: {self.nama}, Umur: {self.u}, Jenis Kelamin : {self.jk}\")"
   ]
  },
  {
   "cell_type": "code",
   "execution_count": 5,
   "id": "5e5df404-1e69-4393-bace-12f34cc14ef1",
   "metadata": {},
   "outputs": [
    {
     "name": "stdout",
     "output_type": "stream",
     "text": [
      "Nama: yanto, Umur: 98, Jenis Kelamin : Laki-laki\n"
     ]
    }
   ],
   "source": [
    "mhs = Mahasiswa('yanto', 98, 'Laki-laki')\n",
    "mhs.tampilkan_informasi() #memanggil fungsi untuk menampilkan informasi"
   ]
  },
  {
   "cell_type": "markdown",
   "id": "e23a09b7-97d5-4072-8f81-5750d9ff9f27",
   "metadata": {},
   "source": [
    "78. Buat program untuk menginisialisasi objek dari class `Mahasiswa`."
   ]
  },
  {
   "cell_type": "code",
   "execution_count": 7,
   "id": "4ca7ba07-ad96-4073-af22-c03170d96481",
   "metadata": {},
   "outputs": [
    {
     "name": "stdout",
     "output_type": "stream",
     "text": [
      "Nama: Alice, Umur: 20, Jenis Kelamin : Perempuan\n"
     ]
    }
   ],
   "source": [
    "mahasiswa1 = Mahasiswa(\"Alice\", 20, \"Perempuan\")\n",
    "mahasiswa1.tampilkan_informasi()"
   ]
  },
  {
   "cell_type": "markdown",
   "id": "e48f796d-258a-4ba9-a9d9-5f585383098e",
   "metadata": {},
   "source": [
    "79. Buat program yang menggunakan constructor dalam class."
   ]
  },
  {
   "cell_type": "code",
   "execution_count": 8,
   "id": "207da420-3be7-4716-83d9-cd5cf2ccd72a",
   "metadata": {},
   "outputs": [
    {
     "name": "stdout",
     "output_type": "stream",
     "text": [
      "John\n"
     ]
    }
   ],
   "source": [
    "class Person:\n",
    "    def __init__(self, name):\n",
    "        self.name = name\n",
    "\n",
    "person = Person(\"John\")\n",
    "print(person.name)"
   ]
  },
  {
   "cell_type": "markdown",
   "id": "0ffe7fcf-867a-4c6f-8617-d7dd9dfd0022",
   "metadata": {},
   "source": [
    "80. Buat program yang menggunakan inheritance untuk class `Person` dan `Mahasiswa`."
   ]
  },
  {
   "cell_type": "code",
   "execution_count": 9,
   "id": "97edeceb-835e-46cc-9e66-26a6632186e0",
   "metadata": {},
   "outputs": [
    {
     "name": "stdout",
     "output_type": "stream",
     "text": [
      "Alice 20\n"
     ]
    }
   ],
   "source": [
    "class Person:\n",
    "    def __init__(self, name):\n",
    "        self.name = name\n",
    "\n",
    "class Mahasiswa(Person):\n",
    "    def __init__(self, name, umur):\n",
    "        super().__init__(name)\n",
    "        self.umur = umur\n",
    "\n",
    "mahasiswa = Mahasiswa(\"Alice\", 20)\n",
    "print(mahasiswa.name, mahasiswa.umur)"
   ]
  },
  {
   "cell_type": "markdown",
   "id": "746c7921-cc1c-45a6-9a31-6fbbc72a0fc3",
   "metadata": {},
   "source": [
    "81. Buat program yang menggunakan method overriding dalam inheritance"
   ]
  },
  {
   "cell_type": "code",
   "execution_count": 10,
   "id": "9e8740ca-826a-4574-9765-7ddb0013a000",
   "metadata": {},
   "outputs": [
    {
     "name": "stdout",
     "output_type": "stream",
     "text": [
      "Dog barks\n"
     ]
    }
   ],
   "source": [
    "class Animal:\n",
    "    def speak(self):\n",
    "        print(\"Animal speaks\")\n",
    "\n",
    "class Dog(Animal):\n",
    "    def speak(self):\n",
    "        print(\"Dog barks\")\n",
    "\n",
    "dog = Dog()\n",
    "dog.speak()"
   ]
  },
  {
   "cell_type": "markdown",
   "id": "38c46d0d-888e-438e-9869-ca509c1b28f5",
   "metadata": {},
   "source": [
    "82. Buat program yang menampilkan jumlah objek yang dibuat dari sebuah class"
   ]
  },
  {
   "cell_type": "code",
   "execution_count": 11,
   "id": "fb134014-5fc2-422b-a0ce-5ee977a6ce4d",
   "metadata": {},
   "outputs": [
    {
     "name": "stdout",
     "output_type": "stream",
     "text": [
      "2\n"
     ]
    }
   ],
   "source": [
    "class Counter:\n",
    "    count = 0\n",
    "\n",
    "    def __init__(self):\n",
    "        Counter.count += 1\n",
    "\n",
    "obj1 = Counter()\n",
    "obj2 = Counter()\n",
    "print(Counter.count)"
   ]
  },
  {
   "cell_type": "markdown",
   "id": "90f2d7a2-da21-4a48-a211-a70f12958a76",
   "metadata": {},
   "source": [
    "83. Buat program yang membuat class dengan method statis"
   ]
  },
  {
   "cell_type": "code",
   "execution_count": 12,
   "id": "26bec327-e095-4baf-ad43-ba73f7034dcd",
   "metadata": {},
   "outputs": [
    {
     "name": "stdout",
     "output_type": "stream",
     "text": [
      "12\n"
     ]
    }
   ],
   "source": [
    "class MathUtils:\n",
    "    @staticmethod\n",
    "    def add(a, b):\n",
    "        return a + b\n",
    "\n",
    "print(MathUtils.add(5, 7))"
   ]
  },
  {
   "cell_type": "markdown",
   "id": "53e8a2e9-c63d-4a0b-b4e6-a9da68eaae78",
   "metadata": {},
   "source": [
    "84. Buat program yang meng-import modul matematika dan menggunakan fungsi sqrt."
   ]
  },
  {
   "cell_type": "code",
   "execution_count": 13,
   "id": "9ce142bd-2717-4cc2-b93a-336da345f4d7",
   "metadata": {},
   "outputs": [
    {
     "name": "stdout",
     "output_type": "stream",
     "text": [
      "4.0\n"
     ]
    }
   ],
   "source": [
    "import math\n",
    "print(math.sqrt(16))"
   ]
  },
  {
   "cell_type": "markdown",
   "id": "8d26427a-d0d8-41e1-abec-ecfd974f5296",
   "metadata": {},
   "source": [
    "85. Buat modul sendiri untuk menghitung luas dan keliling persegi"
   ]
  },
  {
   "cell_type": "code",
   "execution_count": 14,
   "id": "99475d55-1249-4338-bb4e-16a9f51bb5b8",
   "metadata": {},
   "outputs": [],
   "source": [
    "# square.py\n",
    "def area(side):\n",
    "    return side * side\n",
    "\n",
    "def perimeter(side):\n",
    "    return 4 * side"
   ]
  },
  {
   "cell_type": "code",
   "execution_count": 16,
   "id": "db5be95e-b73d-484e-a3c0-5270efb73faa",
   "metadata": {},
   "outputs": [],
   "source": [
    "# cuboid.py\n",
    "def volume(length, width, height):\n",
    "    return length * width * height"
   ]
  },
  {
   "cell_type": "code",
   "execution_count": 15,
   "id": "e586297c-034a-4c71-b775-f221bc90224e",
   "metadata": {},
   "outputs": [],
   "source": [
    "# sphere.py\n",
    "import math\n",
    "def volume(radius):\n",
    "    return (4/3) * math.pi * radius**3"
   ]
  },
  {
   "cell_type": "markdown",
   "id": "da01b755-1e77-4b86-9bfb-8ac32e2e5690",
   "metadata": {},
   "source": [
    "86. Buat package untuk menghitung volume berbagai bangun ruang."
   ]
  },
  {
   "cell_type": "code",
   "execution_count": 17,
   "id": "f17bf067-0035-4bd9-a0b7-aed3a405a16e",
   "metadata": {},
   "outputs": [],
   "source": [
    "import math\n",
    "def volume(radius):\n",
    "    return (4/3) * math.pi * radius**3"
   ]
  },
  {
   "cell_type": "markdown",
   "id": "440a3134-2369-4781-82c6-e8a0aec676c3",
   "metadata": {},
   "source": [
    "87. Buat program yang meng-import modul random dan menghasilkan angka acak"
   ]
  },
  {
   "cell_type": "code",
   "execution_count": 18,
   "id": "2b93cc72-31cf-49bd-9f75-e936a9a0340a",
   "metadata": {},
   "outputs": [
    {
     "name": "stdout",
     "output_type": "stream",
     "text": [
      "74\n"
     ]
    }
   ],
   "source": [
    "import random\n",
    "print(random.randint(1, 100))"
   ]
  },
  {
   "cell_type": "markdown",
   "id": "0ef6e360-82fc-450a-ba11-37e9cc7949c7",
   "metadata": {},
   "source": [
    "88. Buat program yang menggunakan fungsi waktu untuk menghitung lama eksekusi program"
   ]
  },
  {
   "cell_type": "code",
   "execution_count": 19,
   "id": "c160e926-3c37-43d8-8ed3-954a1cc79c77",
   "metadata": {},
   "outputs": [
    {
     "name": "stdout",
     "output_type": "stream",
     "text": [
      "Execution time: 1.0056157112121582 seconds\n"
     ]
    }
   ],
   "source": [
    "import time\n",
    "start_time = time.time()\n",
    "\n",
    "time.sleep(1)\n",
    "end_time = time.time()\n",
    "print(\"Execution time:\", end_time - start_time, \"seconds\")"
   ]
  },
  {
   "cell_type": "markdown",
   "id": "69aafee0-9b21-47f1-a9db-281f324df0bb",
   "metadata": {},
   "source": [
    "Lambda dan Higher-Order Functions"
   ]
  },
  {
   "cell_type": "markdown",
   "id": "ec174b9e-c431-40e4-b14f-4e7b4f77dd07",
   "metadata": {},
   "source": [
    "89. Buat fungsi lambda untuk menghitung kuadrat dari sebuah angka"
   ]
  },
  {
   "cell_type": "code",
   "execution_count": 21,
   "id": "1b33eadf-7020-48c5-ae91-0c80beff45b6",
   "metadata": {},
   "outputs": [
    {
     "name": "stdout",
     "output_type": "stream",
     "text": [
      "25\n"
     ]
    }
   ],
   "source": [
    "square = lambda x: x * x\n",
    "print(square(5))"
   ]
  },
  {
   "cell_type": "markdown",
   "id": "4e83d3f4-05d6-4b1d-ba12-cad5c43e3a04",
   "metadata": {},
   "source": [
    "90. Buat program yang menggunakan map untuk menghitung kuadrat dari semua elemen dalam list."
   ]
  },
  {
   "cell_type": "code",
   "execution_count": 98,
   "id": "b97277fc-4e64-48b5-b86f-5f17aff2e465",
   "metadata": {
    "tags": []
   },
   "outputs": [
    {
     "name": "stdout",
     "output_type": "stream",
     "text": [
      "[1, 4, 9, 16, 25]\n"
     ]
    }
   ],
   "source": [
    "numbers = [1, 2, 3, 4, 5]\n",
    "squares = list(map(lambda x: x * x, numbers))\n",
    "print(squares)"
   ]
  },
  {
   "cell_type": "markdown",
   "id": "d5927ad9-7af3-49ec-8072-e925504cd7ca",
   "metadata": {},
   "source": [
    "91. Buat program yang menggunakan filter untuk menyaring bilangan ganjil dari list."
   ]
  },
  {
   "cell_type": "code",
   "execution_count": 24,
   "id": "64c530a5-18ea-492f-ab6f-aa43c7da8910",
   "metadata": {},
   "outputs": [
    {
     "name": "stdout",
     "output_type": "stream",
     "text": [
      "[1, 3, 5]\n"
     ]
    }
   ],
   "source": [
    "numbers = [1, 2, 3, 4, 5, 6]\n",
    "odds = list(filter(lambda x: x % 2 != 0, numbers))\n",
    "print(odds)"
   ]
  },
  {
   "cell_type": "markdown",
   "id": "688f1f97-b311-4872-8d16-a247d0845ecb",
   "metadata": {},
   "source": [
    "92. Buat program yang menggunakan reduce untuk menghitung jumlah semua elemen dalam list"
   ]
  },
  {
   "cell_type": "code",
   "execution_count": 25,
   "id": "45f7958e-b246-435b-84e4-69cf4e696fe6",
   "metadata": {},
   "outputs": [
    {
     "name": "stdout",
     "output_type": "stream",
     "text": [
      "15\n"
     ]
    }
   ],
   "source": [
    "from functools import reduce\n",
    "numbers = [1, 2, 3, 4, 5]\n",
    "total = reduce(lambda x, y: x + y, numbers)\n",
    "print(total)"
   ]
  },
  {
   "cell_type": "markdown",
   "id": "2d37542c-8578-4687-ae59-6f9362e773e6",
   "metadata": {},
   "source": [
    "93. Buat program untuk menghitung jumlah huruf vokal dalam sebuah string."
   ]
  },
  {
   "cell_type": "code",
   "execution_count": 26,
   "id": "8b5899ba-72a4-4fee-a3b8-31d481a76605",
   "metadata": {},
   "outputs": [
    {
     "name": "stdout",
     "output_type": "stream",
     "text": [
      "3\n"
     ]
    }
   ],
   "source": [
    "string = \"hello world\"\n",
    "vowels = \"aeiou\"\n",
    "count = sum(1 for char in string if char in vowels)\n",
    "print(count)"
   ]
  },
  {
   "cell_type": "markdown",
   "id": "14b9f8dd-4ad8-4e3e-8ca6-52f1b7031178",
   "metadata": {},
   "source": [
    "94. Buat program untuk memeriksa apakah string adalah palindrom."
   ]
  },
  {
   "cell_type": "code",
   "execution_count": 27,
   "id": "04a03250-bc78-451a-8aed-54ae4d403953",
   "metadata": {},
   "outputs": [
    {
     "name": "stdout",
     "output_type": "stream",
     "text": [
      "True\n"
     ]
    }
   ],
   "source": [
    "def is_palindrome(s):\n",
    "    return s == s[::-1]\n",
    "\n",
    "print(is_palindrome(\"madam\"))"
   ]
  },
  {
   "cell_type": "markdown",
   "id": "3b20f085-2199-485d-a000-24d725367ae4",
   "metadata": {},
   "source": [
    "95. Buat program yang menggunakan nested loop untuk menampilkan pola bintang."
   ]
  },
  {
   "cell_type": "code",
   "execution_count": 28,
   "id": "721be9d0-83b1-4ba9-b3fe-f0aca31ec7a9",
   "metadata": {},
   "outputs": [
    {
     "name": "stdout",
     "output_type": "stream",
     "text": [
      "*\n",
      "**\n",
      "***\n",
      "****\n",
      "*****\n"
     ]
    }
   ],
   "source": [
    "for i in range(5):\n",
    "    for j in range(i + 1):\n",
    "        print(\"*\", end=\"\")\n",
    "    print()"
   ]
  },
  {
   "cell_type": "markdown",
   "id": "f3d6d3b1-a12a-418c-9dd2-3bf558d2dc2c",
   "metadata": {},
   "source": [
    "96. Buat program untuk menghitung faktorial menggunakan iterasi."
   ]
  },
  {
   "cell_type": "code",
   "execution_count": 29,
   "id": "3736d165-d8b1-4afd-9f4b-7344eb3e53dc",
   "metadata": {},
   "outputs": [
    {
     "name": "stdout",
     "output_type": "stream",
     "text": [
      "120\n"
     ]
    }
   ],
   "source": [
    "def factorial(n):\n",
    "    result = 1\n",
    "    for i in range(1, n + 1):\n",
    "        result *= i\n",
    "    return result\n",
    "\n",
    "print(factorial(5))"
   ]
  },
  {
   "cell_type": "markdown",
   "id": "6a5a6dbb-5631-4710-b930-dc3da6897220",
   "metadata": {},
   "source": [
    "97. Buat program yang meminta input nama dan umur lalu menampilkannya dengan format tertentu"
   ]
  },
  {
   "cell_type": "code",
   "execution_count": 30,
   "id": "86013986-fe12-4b33-98e4-9978eed797b7",
   "metadata": {},
   "outputs": [
    {
     "name": "stdin",
     "output_type": "stream",
     "text": [
      "Enter your name:  Vania\n",
      "Enter your age:  19\n"
     ]
    },
    {
     "name": "stdout",
     "output_type": "stream",
     "text": [
      "Name: Vania, Age: 19\n"
     ]
    }
   ],
   "source": [
    "name = input(\"Enter your name: \")\n",
    "age = int(input(\"Enter your age: \"))\n",
    "print(f\"Name: {name}, Age: {age}\")"
   ]
  },
  {
   "cell_type": "markdown",
   "id": "6b6dc2fa-2531-4b54-a749-114f0a1e13b2",
   "metadata": {},
   "source": [
    "98. Buat program yang membalik urutan elemen dalam list tanpa menggunakan fungsi built-in."
   ]
  },
  {
   "cell_type": "code",
   "execution_count": 31,
   "id": "b621cf59-0f94-4a90-b379-c52dabb45c4d",
   "metadata": {},
   "outputs": [
    {
     "name": "stdout",
     "output_type": "stream",
     "text": [
      "[5, 4, 3, 2, 1]\n"
     ]
    }
   ],
   "source": [
    "my_list = [1, 2, 3, 4, 5]\n",
    "reversed_list = my_list[::-1]\n",
    "print(reversed_list)"
   ]
  },
  {
   "cell_type": "markdown",
   "id": "b11d8e1d-da87-4d55-a311-3a8e52503fda",
   "metadata": {},
   "source": [
    "99. Buat program yang menampilkan hari saat ini menggunakan modul datetime."
   ]
  },
  {
   "cell_type": "code",
   "execution_count": 32,
   "id": "a59afa79-9a44-479d-aec9-9b8db04438ba",
   "metadata": {},
   "outputs": [
    {
     "name": "stdout",
     "output_type": "stream",
     "text": [
      "Monday\n"
     ]
    }
   ],
   "source": [
    "import datetime\n",
    "today = datetime.datetime.now()\n",
    "print(today.strftime(\"%A\"))"
   ]
  },
  {
   "cell_type": "markdown",
   "id": "572e5daa-5f46-464d-9bfb-d9b37fe18e7a",
   "metadata": {},
   "source": [
    "100. Buat program yang menerima dua angka dari input, lalu menampilkan hasil pembagiannya."
   ]
  },
  {
   "cell_type": "code",
   "execution_count": 33,
   "id": "a27da0c8-8f7d-463b-bd4d-7bca9a47b98b",
   "metadata": {},
   "outputs": [
    {
     "name": "stdin",
     "output_type": "stream",
     "text": [
      "Enter first number:  13\n",
      "Enter second number:  43\n"
     ]
    },
    {
     "name": "stdout",
     "output_type": "stream",
     "text": [
      "0.3023255813953488\n"
     ]
    }
   ],
   "source": [
    "num1 = float(input(\"Enter first number: \"))\n",
    "num2 = float(input(\"Enter second number: \"))\n",
    "\n",
    "if num2 != 0:\n",
    "    print(num1 / num2)\n",
    "else:\n",
    "    print(\"Cannot divide by zero\")"
   ]
  }
 ],
 "metadata": {
  "kernelspec": {
   "display_name": "Python 3 (ipykernel)",
   "language": "python",
   "name": "python3"
  },
  "language_info": {
   "codemirror_mode": {
    "name": "ipython",
    "version": 3
   },
   "file_extension": ".py",
   "mimetype": "text/x-python",
   "name": "python",
   "nbconvert_exporter": "python",
   "pygments_lexer": "ipython3",
   "version": "3.11.5"
  }
 },
 "nbformat": 4,
 "nbformat_minor": 5
}
