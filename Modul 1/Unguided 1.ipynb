{
 "cells": [
  {
   "cell_type": "markdown",
   "id": "b8bc2d04-8d7d-4ad4-956c-7fa17ff5ed3b",
   "metadata": {
    "tags": []
   },
   "source": [
    "*PRAKTIKUM INFRAKSTRUKTUR DAN PLATFORM UNTUK SAINS DATA*"
   ]
  },
  {
   "cell_type": "markdown",
   "id": "aa3caa38-b0f4-4e64-872e-41a42d3bc89e",
   "metadata": {
    "tags": []
   },
   "source": [
    "*MODUL 1 - LATIHAN DASAR-DASAR PYTHON*"
   ]
  },
  {
   "cell_type": "markdown",
   "id": "eac36bbb-ab76-4514-b16b-b8600b785048",
   "metadata": {
    "tags": []
   },
   "source": [
    "*TUGAS 1*"
   ]
  },
  {
   "cell_type": "markdown",
   "id": "28df9739-a3ea-4afe-93f5-d052c386b664",
   "metadata": {
    "tags": []
   },
   "source": [
    "Nama : Vania Noverina\n",
    "\n",
    "NIM : 2311110031\n",
    "\n",
    "Kelas : S1SD-04-B"
   ]
  },
  {
   "cell_type": "markdown",
   "id": "78cc1e10-cf9c-42ac-b033-6cbbaa97913b",
   "metadata": {
    "tags": []
   },
   "source": [
    "*SOAL 1 : Memecahkan Masalah Unik dengan Loop dan If-Else*\n",
    "\n",
    "Buatlah program yang dapat menghasilkan pola berbentuk angka seperti di bawah ini,\n",
    "dengan syarat angka yang ditampilkan adalah hasil dari penjumlahan bilangan prima \n",
    "sebelumnya:  "
   ]
  },
  {
   "cell_type": "code",
   "execution_count": 1,
   "id": "7bcf83af-bb07-4e35-adf5-1d1207f27344",
   "metadata": {
    "tags": []
   },
   "outputs": [
    {
     "name": "stdin",
     "output_type": "stream",
     "text": [
      "Masukkan jumlah baris:  4\n"
     ]
    },
    {
     "name": "stdout",
     "output_type": "stream",
     "text": [
      "2 \n",
      "3 5 \n",
      "7 11 13 \n",
      "17 19 23 29 \n"
     ]
    }
   ],
   "source": [
    "# Fungsi untuk mengecek apakah suatu bilangan prima atau tidak\n",
    "def apakah_prima(n):\n",
    "    if n < 2:\n",
    "        return False\n",
    "    for i in range(2, int(n ** 0.5) + 1):\n",
    "        if n % i == 0:\n",
    "            return False\n",
    "    return True\n",
    "\n",
    "# Fungsi untuk menghasilkan bilangan prima hingga jumlah tertentu\n",
    "def generate_patterns(limit):\n",
    "    primes = []\n",
    "    num = 2\n",
    "    while len(primes) < limit:\n",
    "        if apakah_prima(num):\n",
    "            primes.append(num)\n",
    "        num += 1\n",
    "    return primes\n",
    "\n",
    "# Fungsi untuk menghasilkan pola angka berdasarkan bilangan prima\n",
    "def cetakprima(rows):\n",
    "    current_count = 1\n",
    "    totalBil_prima = sum(range(1, rows + 1))  # Total jumlah bilangan prima yang dibutuhkan\n",
    "    primes = generate_patterns(totalBil_prima)\n",
    "    \n",
    "    index = 0\n",
    "    for i in range(1, rows + 1):\n",
    "        for j in range(i):\n",
    "            print(primes[index], end=\" \")\n",
    "            index += 1\n",
    "        print()\n",
    "\n",
    "# Input jumlah baris yang diinginkan\n",
    "rows = int(input(\"Masukkan jumlah baris: \"))\n",
    "cetakprima(rows)\n"
   ]
  },
  {
   "cell_type": "markdown",
   "id": "12b280c4-a2a4-4a4f-894d-cf2d1bcaee9f",
   "metadata": {
    "tags": []
   },
   "source": [
    "*Soal 2 : Membuat Fungsi dengan Syarat Spesifik*\n",
    "\n",
    "Buatlah sebuah fungsi yang menerima dua input berupa list angka. Fungsi ini harus mengembalikan sebuah list baru yang berisi elemen dari dua list input yang memiliki indeks ganjil. List baru tersebut juga harus diurutkan secara menurun berdasarkan nilai elemen."
   ]
  },
  {
   "cell_type": "code",
   "execution_count": 2,
   "id": "631be2a4-97d5-4980-bb45-ed3955c39b71",
   "metadata": {
    "tags": []
   },
   "outputs": [
    {
     "name": "stdout",
     "output_type": "stream",
     "text": [
      "List elemen dengan indeks ganjil dan diurutkan secara menurun: [44, 22, 19, 16, 15, 7]\n"
     ]
    }
   ],
   "source": [
    "# program tanpa menggunakan input user\n",
    "def indeks_ganjil(list1, list2):\n",
    "    # Mengambil elemen dengan indeks ganjil dari kedua list\n",
    "    Odd_List1 = [list1[i] for i in range(1, len(list1), 2)]\n",
    "    Odd_List2 = [list2[i] for i in range(1, len(list2), 2)]\n",
    "\n",
    "    # Gabungkan kedua list yang memiliki nilai dari indeks ganjil\n",
    "    merge = Odd_List1 + Odd_List2\n",
    "\n",
    "    # Mengurutkan list gabungan secara menurun\n",
    "    merge.sort(reverse=True)\n",
    "    return merge\n",
    "\n",
    "# isi list 1 dan 2\n",
    "list1 = [5, 7, 2, 15, 25, 16, 37]\n",
    "list2 = [11, 22, 13, 44, 16, 19, 33]\n",
    "\n",
    "# menampilkan hasil\n",
    "result = indeks_ganjil(list1, list2)\n",
    "print(f\"List elemen dengan indeks ganjil dan diurutkan secara menurun: {result}\")"
   ]
  },
  {
   "cell_type": "markdown",
   "id": "f173b21a-7427-4686-a738-588e037e5ca6",
   "metadata": {
    "tags": []
   },
   "source": [
    "*Soal 3 : Exception Handling dalam Konteks Nyata*\n",
    "\n",
    "Buat sebuah program untuk mensimulasikan transaksi ATM. Program harus:\n",
    "    1. Meminta pengguna memasukkan PIN (dibatasi 3 kali percobaan).\n",
    "    2. Setelah PIN benar, meminta jumlah penarikan.\n",
    "    3. Jika saldo kurang dari jumlah yang ditarik, munculkan pesan kesalahan.\n",
    "    4. Jika penarikan berhasil, tampilkan saldo akhir."
   ]
  },
  {
   "cell_type": "code",
   "execution_count": 3,
   "id": "e66ac465-ac41-434e-bd76-bb235960b6a0",
   "metadata": {
    "jp-MarkdownHeadingCollapsed": true,
    "tags": []
   },
   "outputs": [
    {
     "name": "stdin",
     "output_type": "stream",
     "text": [
      "Masukkan PIN Anda:  456\n"
     ]
    },
    {
     "name": "stdout",
     "output_type": "stream",
     "text": [
      "PIN salah. Anda memiliki 2 percobaan lagi.\n"
     ]
    },
    {
     "name": "stdin",
     "output_type": "stream",
     "text": [
      "Masukkan PIN Anda:  6543\n"
     ]
    },
    {
     "name": "stdout",
     "output_type": "stream",
     "text": [
      "PIN benar.\n"
     ]
    },
    {
     "name": "stdin",
     "output_type": "stream",
     "text": [
      "Masukkan jumlah penarikan:  79000\n"
     ]
    },
    {
     "name": "stdout",
     "output_type": "stream",
     "text": [
      "Penarikan berhasil. Sisa saldo anda adalah: Rp 421000.\n"
     ]
    }
   ],
   "source": [
    "def atm_simulation():\n",
    "    # Inisialisasi PIN dan saldo awal\n",
    "    correct_pin = \"6543\"\n",
    "    saldo = 500000  # Saldo awal\n",
    "    \n",
    "    # Membatasi jumlah percobaan untuk memasukkan PIN\n",
    "    attempts = 3\n",
    "    \n",
    "    # Meminta pengguna memasukkan PIN\n",
    "    while attempts > 0:\n",
    "        entered_pin = input(\"Masukkan PIN Anda: \")\n",
    "        \n",
    "        # jika pin yang dimasukkan sesuai dengan pin asli\n",
    "        if entered_pin == correct_pin:\n",
    "            print(\"PIN benar.\")\n",
    "            \n",
    "            # Maka program akan meminta user untuk memasukkan jumlah penarikan\n",
    "            try:\n",
    "                withdraw = int(input(\"Masukkan jumlah penarikan: \"))\n",
    "            except ValueError:\n",
    "                print(\"Jumlah yang dimasukkan tidak valid.\")\n",
    "                return\n",
    "            \n",
    "            # Memeriksa apakah saldo mencukupi\n",
    "            if withdraw > saldo:\n",
    "                print(f\"Saldo tidak mencukupi. Saldo saat ini: Rp {saldo}.\")\n",
    "            else:\n",
    "                # Jika saldo cukup, lakukan penarikan\n",
    "                saldo -= withdraw\n",
    "                print(f\"Penarikan berhasil. Sisa saldo anda adalah: Rp {saldo}.\")\n",
    "            return\n",
    "        \n",
    "        else:\n",
    "            # Jika PIN salah, kurangi jumlah percobaan\n",
    "            attempts -= 1\n",
    "            if attempts > 0:\n",
    "                print(f\"PIN salah. Anda memiliki {attempts} percobaan lagi.\")\n",
    "            else:\n",
    "                print(\"Anda telah melebihi batas percobaan. Akun Anda terkunci. Silakan hubungi bank untuk bantuan.\")\n",
    "                return\n",
    "\n",
    "# Memulai simulasi ATM\n",
    "atm_simulation()"
   ]
  },
  {
   "cell_type": "markdown",
   "id": "3a6a2a62-1400-47b0-8fcb-b9c760462bb0",
   "metadata": {
    "tags": []
   },
   "source": [
    "*Soal 4 : *\n",
    "\n",
    "Anda diberikan file CSV berisi data nilai ujian mahasiswa. Tugas Anda adalah menulis sebuah program yang:\n",
    "    1. Membaca file CSV dan menyimpan datanya ke dalam dictionary.\n",
    "    2. Menghitung rata-rata nilai tiap mahasiswa.\n",
    "    3. Menampilkan mahasiswa dengan nilai tertinggi dan terendah."
   ]
  },
  {
   "cell_type": "code",
   "execution_count": 4,
   "id": "f6f11c65-1a50-48d3-a7bd-494931f43256",
   "metadata": {
    "jp-MarkdownHeadingCollapsed": true,
    "tags": []
   },
   "outputs": [
    {
     "name": "stdout",
     "output_type": "stream",
     "text": [
      "Rata-rata nilai mahasiswa: 72.00\n",
      "Mahasiswa dengan nilai tertinggi: Siswa_7 dengan nilai 100.0\n",
      "Mahasiswa dengan nilai terendah: Siswa_5 dengan nilai 50.0\n"
     ]
    }
   ],
   "source": [
    "# Mengimpor modul csv untuk membaca file csv\n",
    "import csv\n",
    "\n",
    "# nama file csv\n",
    "df = 'siswa_nilai (1).csv'  # Update with your path if needed\n",
    "\n",
    "# Dictionary untuk menyimpan data\n",
    "student_data = {}\n",
    "\n",
    "# Membaca file csv dan menyimpan data ke dictionary\n",
    "with open(df, mode='r') as file:\n",
    "    reader = csv.DictReader(file)\n",
    "    for row in reader:\n",
    "        student = row['Nama Siswa']\n",
    "        score = float(row['Nilai'])  # Convert score to float\n",
    "        student_data[student] = score\n",
    "\n",
    "# Menghitung rata-rata, nilai tertinggi, dan nilai terendah\n",
    "average_score = sum(student_data.values()) / len(student_data)\n",
    "highest_score_student = max(student_data, key=student_data.get)\n",
    "lowest_score_student = min(student_data, key=student_data.get)\n",
    "\n",
    "# Mempersiapkan hasilnya\n",
    "result = {\n",
    "    \"Average Score\": average_score,\n",
    "    \"Highest Scorer\": (highest_score_student, student_data[highest_score_student]),\n",
    "    \"Lowest Scorer\": (lowest_score_student, student_data[lowest_score_student])\n",
    "}\n",
    "\n",
    "# Menampilkan hasilnya\n",
    "print(f\"Rata-rata nilai mahasiswa: {result['Average Score']:.2f}\")\n",
    "print(f\"Mahasiswa dengan nilai tertinggi: {result['Highest Scorer'][0]} dengan nilai {result['Highest Scorer'][1]}\")\n",
    "print(f\"Mahasiswa dengan nilai terendah: {result['Lowest Scorer'][0]} dengan nilai {result['Lowest Scorer'][1]}\")"
   ]
  },
  {
   "cell_type": "markdown",
   "id": "8bb7f4aa-b40f-4f00-a2b7-39dfb274fbde",
   "metadata": {},
   "source": [
    "*Soal 5 : Kombinasi Logika dan Kreativitas*\n",
    "\n",
    "Buatlah permainan sederhana menggunakan Python, di mana komputer akan memilih sebuah angka secara acak antara 1 hingga 100, dan pengguna harus menebak angka tersebut. Setiap tebakan yang salah akan memberikan petunjuk apakah angka yang ditebak lebih besar atau lebih kecil dari angka sebenarnya. Batasi jumlahpercobaan menjadi 5 kali. Setelah permainan selesai, tampilkan apakah pemain menang atau kalah."
   ]
  },
  {
   "cell_type": "code",
   "execution_count": 5,
   "id": "15138b39-e674-4fbc-87d7-a45049398bf7",
   "metadata": {
    "jp-MarkdownHeadingCollapsed": true,
    "tags": []
   },
   "outputs": [
    {
     "name": "stdout",
     "output_type": "stream",
     "text": [
      "========================================\n",
      "Selamat datang di permainan tebak angka!\n",
      "========================================\n",
      "Tebak sebuah angka antara 1 hingga 100.\n",
      "Kamu memiliki 5 kali percobaan untuk menebaknya.\n"
     ]
    },
    {
     "name": "stdin",
     "output_type": "stream",
     "text": [
      "Percobaan 1: Masukkan tebakanmu:  76\n"
     ]
    },
    {
     "name": "stdout",
     "output_type": "stream",
     "text": [
      "Terlalu besar!\n"
     ]
    },
    {
     "name": "stdin",
     "output_type": "stream",
     "text": [
      "Percobaan 2: Masukkan tebakanmu:  64\n"
     ]
    },
    {
     "name": "stdout",
     "output_type": "stream",
     "text": [
      "Terlalu besar!\n"
     ]
    },
    {
     "name": "stdin",
     "output_type": "stream",
     "text": [
      "Percobaan 3: Masukkan tebakanmu:  60\n"
     ]
    },
    {
     "name": "stdout",
     "output_type": "stream",
     "text": [
      "Terlalu besar!\n"
     ]
    },
    {
     "name": "stdin",
     "output_type": "stream",
     "text": [
      "Percobaan 4: Masukkan tebakanmu:  56\n"
     ]
    },
    {
     "name": "stdout",
     "output_type": "stream",
     "text": [
      "Terlalu besar!\n"
     ]
    },
    {
     "name": "stdin",
     "output_type": "stream",
     "text": [
      "Percobaan 5: Masukkan tebakanmu:  63\n"
     ]
    },
    {
     "name": "stdout",
     "output_type": "stream",
     "text": [
      "Terlalu besar!\n",
      "Maaf, kamu kalah. The secret number is 29.\n"
     ]
    }
   ],
   "source": [
    "import random\n",
    "\n",
    "def guessing_game():\n",
    "    # program memilih angka acak antara 1 hingga 100\n",
    "    number_to_guess = random.randint(1, 100) \n",
    "    attempts = 5\n",
    "    \n",
    "    print(\"========================================\")\n",
    "    print(\"Selamat datang di permainan tebak angka!\")\n",
    "    print(\"========================================\")\n",
    "    print(\"Tebak sebuah angka antara 1 hingga 100.\")\n",
    "    print(f\"Kamu memiliki {attempts} kali percobaan untuk menebaknya.\")\n",
    "\n",
    "    # Memulai permainan\n",
    "    for attempt in range(1, attempts + 1):\n",
    "        try:\n",
    "            guess = int(input(f\"Percobaan {attempt}: Masukkan tebakanmu: \"))\n",
    "        except ValueError:\n",
    "            print(\"Tolong masukkan angka yang valid.\")\n",
    "            continue\n",
    "            \n",
    "        # Tampilan jika tebakan angka salah\n",
    "        if guess < number_to_guess:\n",
    "            print(\"Terlalu kecil!\")\n",
    "        elif guess > number_to_guess:\n",
    "            print(\"Terlalu besar!\")\n",
    "        else:\n",
    "            print(f\"Selamat! Kamu berhasil menebak angka {number_to_guess} dalam {attempt} percobaan.\")\n",
    "            return\n",
    "        \n",
    "    # Jika tebakan habis dan angka tidak ditemukan maka program akan \n",
    "    print(f\"Maaf, kamu kalah. The secret number is {number_to_guess}.\")\n",
    "\n",
    "# Memulai permainan\n",
    "guessing_game()"
   ]
  },
  {
   "cell_type": "markdown",
   "id": "16be9ed9-05c5-442a-bc17-716a6d2ffc8e",
   "metadata": {},
   "source": [
    "*Soal 6 : Rekursi yang Tidak Biasa *\n",
    "\n",
    "Buat fungsi rekursif yang menerima input bilangan bulat `n` dan menghasilkan urutan bilangan seperti berikut ini:\n",
    "    Input: n = 4\n",
    "    Output: 1, 1, 2, 6, 24"
   ]
  },
  {
   "cell_type": "code",
   "execution_count": 6,
   "id": "288d3ada-d7a2-45ca-b5ed-c798540183d9",
   "metadata": {
    "jp-MarkdownHeadingCollapsed": true,
    "tags": []
   },
   "outputs": [
    {
     "name": "stdin",
     "output_type": "stream",
     "text": [
      "Masukkan nilai n:  4\n"
     ]
    },
    {
     "name": "stdout",
     "output_type": "stream",
     "text": [
      "[1, 1, 2, 6, 24]\n"
     ]
    }
   ],
   "source": [
    "# Menghitung faktorial dari n\n",
    "def faktorial(n):\n",
    "  if n == 0 or n == 1:\n",
    "    return 1\n",
    "  else:\n",
    "    return n * faktorial(n - 1)\n",
    "\n",
    "# Untuk menghasilkan urutan/ deret faktorial dari bil. n\n",
    "def rekursif(n):\n",
    "  if n == 0:\n",
    "    return [1]\n",
    "  else:\n",
    "    seq = rekursif(n - 1)\n",
    "    seq.append(faktorial(n))\n",
    "    return seq\n",
    "\n",
    "# Meminta input dari pengguna\n",
    "n = int(input(\"Masukkan nilai n: \"))\n",
    "\n",
    "# Memanggil fungsi dan mencetak hasil\n",
    "output = rekursif(n)\n",
    "print(output)"
   ]
  },
  {
   "cell_type": "markdown",
   "id": "cb045707-433e-4ebc-925e-b42ce73e71e9",
   "metadata": {},
   "source": [
    "*Soal 7 : Pemrograman dengan Algoritma Greedy*\n",
    "\n",
    "Buatlah program untuk memecahkan masalah \"minimum coin change\". Diberikan jumlah uang dan daftar nilai koin yang tersedia (misalnya, 1, 5, 10, 25), tentukan kombinasi minimum koin yang diperlukan untuk mencapai jumlah uang tersebut. Namun, program Anda harus bisa menangani koin-koin yang nilai dan jumlahnya ditentukan pengguna."
   ]
  },
  {
   "cell_type": "code",
   "execution_count": 7,
   "id": "dfa13da0-a1dc-49b6-8653-321b9d36c382",
   "metadata": {
    "jp-MarkdownHeadingCollapsed": true,
    "tags": []
   },
   "outputs": [
    {
     "name": "stdin",
     "output_type": "stream",
     "text": [
      "Masukkan nilai koin:  25\n",
      "Masukkan jumlah koin:  7\n",
      "Masukkan jumlah koin yang ingin dicapai:  75\n"
     ]
    },
    {
     "name": "stdout",
     "output_type": "stream",
     "text": [
      "Jumlah minimum koin yang dibutuhkan: 3\n"
     ]
    }
   ],
   "source": [
    "def minimum_coin(coins, amounts, target):\n",
    "    dp = [float('inf')] * (target + 1)\n",
    "    dp[0] = 0  # Jumlah 0 dicapai dengan 0 koin\n",
    "\n",
    "    for i, coin in enumerate(coins):\n",
    "        for t in range(target, coin - 1, -1):\n",
    "            for k in range(1, amounts[i] + 1):\n",
    "                if t >= k * coin:\n",
    "                    dp[t] = min(dp[t], dp[t - k * coin] + k)\n",
    "\n",
    "    if dp[target] == float('inf'):\n",
    "        return \"Tidak ada kombinasi koin yang bisa mencapai target.\"\n",
    "    return f\"Jumlah minimum koin yang dibutuhkan: {dp[target]}\"\n",
    "\n",
    "# Contoh penggunaan:\n",
    "coins = [int(x) for x in input(\"Masukkan nilai koin: \").split()]\n",
    "amounts = [int(x) for x in input(\"Masukkan jumlah koin: \").split()]\n",
    "target = int(input(\"Masukkan jumlah koin yang ingin dicapai: \"))\n",
    "\n",
    "# Memanggil fungsi\n",
    "result = minimum_coin(coins, amounts, target)\n",
    "print(result)\n"
   ]
  },
  {
   "cell_type": "markdown",
   "id": "b33dffe0-59cb-4f21-9960-5d45fceb5352",
   "metadata": {},
   "source": [
    "*Soal 8 : Kombinasi String dan Manipulasi List*\n",
    "\n",
    "Buat sebuah program yang menerima string dari pengguna dan mengonversi string tersebut menjadi sebuah list berisi kata-kata terbalik. Misalnya:\n",
    "    Input: \"Saya suka Python\"\n",
    "    Output: [\"ayaS\", \"akus\", \"nohtyP\"]"
   ]
  },
  {
   "cell_type": "code",
   "execution_count": 8,
   "id": "a13849a9-a765-4127-ba7e-c34389f9ca34",
   "metadata": {
    "jp-MarkdownHeadingCollapsed": true,
    "tags": []
   },
   "outputs": [
    {
     "name": "stdin",
     "output_type": "stream",
     "text": [
      "Masukkan kalimat:  Saya suka Python\n"
     ]
    },
    {
     "name": "stdout",
     "output_type": "stream",
     "text": [
      "['ayaS', 'akus', 'nohtyP']\n"
     ]
    }
   ],
   "source": [
    "def reverse_words(sentence):\n",
    "    # Memecah string menjadi list kata-kata\n",
    "    words = sentence.split()\n",
    "    \n",
    "    # Membalik setiap kata dalam list\n",
    "    reversed_words = [word[::-1] for word in words]\n",
    "    return reversed_words\n",
    "\n",
    "# Inputan kata dari user\n",
    "sentence = input(\"Masukkan kalimat: \")\n",
    "\n",
    "# Membalik kata dan menampilkan hasilnya\n",
    "result = reverse_words(sentence)\n",
    "print(result)"
   ]
  },
  {
   "cell_type": "markdown",
   "id": "077c9d97-9287-4c24-ac05-8354af37cb59",
   "metadata": {},
   "source": [
    "*Soal 9 : Konsep Class dan Object-Oriented Programming*\n",
    "\n",
    "Buat class bernama `Buku` yang memiliki atribut `judul`, `penulis`, dan `tahun_terbit`. Buat method dalam class untuk menampilkan informasi buku, serta method untuk menghitung usia buku berdasarkan tahun saat ini. Buatlah 3 objek dari class `Buku` dan tampilkan informasi serta usia masing-masing buku."
   ]
  },
  {
   "cell_type": "code",
   "execution_count": 9,
   "id": "17db00e3-cfa5-4d37-abe9-b2158c22ebea",
   "metadata": {
    "jp-MarkdownHeadingCollapsed": true,
    "tags": []
   },
   "outputs": [
    {
     "name": "stdout",
     "output_type": "stream",
     "text": [
      "INFORMASI IDENTITAS DAN USIA BUKU\n",
      "=================================\n",
      "Informasi Buku 1:\n",
      "Judul: Fantastic Best and Where to Find Them\n",
      "Penulis: J.K. Rowling\n",
      "Tahun Terbit: 2001\n",
      "Usia Buku: 23 tahun\n",
      "\n",
      "Informasi Buku 2:\n",
      "Judul: Cosmos\n",
      "Penulis: Carl Sagan\n",
      "Tahun Terbit: 1981\n",
      "Usia Buku: 43 tahun\n",
      "\n",
      "Informasi Buku 3:\n",
      "Judul: Hujan\n",
      "Penulis: Tere Liye\n",
      "Tahun Terbit: 2016\n",
      "Usia Buku: 8 tahun\n"
     ]
    }
   ],
   "source": [
    "from datetime import datetime\n",
    "\n",
    "class Buku:\n",
    "    # Untuk menginisiasi objek dengan atribut tertentu\n",
    "    def __init__(self, judul, penulis, year): \n",
    "        self.judul = judul\n",
    "        self.penulis = penulis\n",
    "        self.year = year\n",
    "    \n",
    "    # Menampilkan informasi buku\n",
    "    def info(self):\n",
    "        print(f\"Judul: {self.judul}\")\n",
    "        print(f\"Penulis: {self.penulis}\")\n",
    "        print(f\"Tahun Terbit: {self.year}\")\n",
    "\n",
    "    # Menghitung usia buku (tahun saat ini -  tahun terbit)\n",
    "    def hitung_usia(self):\n",
    "        tahun_sekarang = datetime.now().year\n",
    "        usia_buku = tahun_sekarang - self.year\n",
    "        print(f\"Usia Buku: {usia_buku} tahun\")\n",
    "\n",
    "# Membuat objek-objek dari class Buku\n",
    "buku1 = Buku(\"Fantastic Best and Where to Find Them\", \"J.K. Rowling\", 2001)\n",
    "buku2 = Buku(\"Cosmos\", \"Carl Sagan\", 1981)\n",
    "buku3 = Buku(\"Hujan\", \"Tere Liye\", 2016)\n",
    "\n",
    "# Menampilkan informasi dan usia masing-masing buku\n",
    "print(\"INFORMASI IDENTITAS DAN USIA BUKU\")\n",
    "print(\"=================================\")\n",
    "\n",
    "print(\"Informasi Buku 1:\")\n",
    "buku1.info()\n",
    "buku1.hitung_usia()\n",
    "\n",
    "print(\"\\nInformasi Buku 2:\")\n",
    "buku2.info()\n",
    "buku2.hitung_usia()\n",
    "\n",
    "print(\"\\nInformasi Buku 3:\")\n",
    "buku3.info()\n",
    "buku3.hitung_usia()"
   ]
  },
  {
   "cell_type": "markdown",
   "id": "b432b010-0804-4690-89f3-fd6fe26bf84f",
   "metadata": {},
   "source": [
    "*Soal 10 : Algoritma dengan Persyaratan Logika Khusus*\n",
    "\n",
    "Buatlah program yang mengimplementasikan algoritma pencarian biner, namun dengan modifikasi: algoritma harus bisa mencari nilai di list yang hanya berisi angka genap, dan jika nilai yang dicari adalah angka ganjil, program harus menampilkan pesan bahwa nilai tersebut tidak bisa ditemukan."
   ]
  },
  {
   "cell_type": "code",
   "execution_count": 11,
   "id": "38e882e5-f3c4-4630-849d-41408b6902e5",
   "metadata": {
    "jp-MarkdownHeadingCollapsed": true,
    "tags": []
   },
   "outputs": [
    {
     "name": "stdin",
     "output_type": "stream",
     "text": [
      "Masukkan nilai yang ingin dicari:  18\n"
     ]
    },
    {
     "name": "stdout",
     "output_type": "stream",
     "text": [
      "Nilai 18 adalah angka genap dan ditemukan pada indeks 8.\n"
     ]
    }
   ],
   "source": [
    "# Fungsi untuk melakukan binary search pada list yang berisi angka genap\n",
    "def binary_search_ganjil(arr, target):\n",
    "    # Cek apakah target adalah bilangan ganjil\n",
    "    if target % 2 != 0:\n",
    "        return f\"Nilai {target} adalah angka ganjil dan tidak bisa ditemukan.\"\n",
    "\n",
    "    low, high = 0, len(arr) - 1\n",
    "\n",
    "    while low <= high:\n",
    "        mid = (low + high) // 2\n",
    "        \n",
    "        # Jika target ditemukan\n",
    "        if arr[mid] == target:\n",
    "            return f\"Nilai {target} adalah angka genap dan ditemukan pada indeks {mid}.\"\n",
    "        \n",
    "        # Jika target lebih kecil dari nilai tengah, abaikan bagian kanan\n",
    "        elif arr[mid] > target:\n",
    "            high = mid - 1\n",
    "        \n",
    "        # Jika target lebih besar dari nilai tengah, abaikan bagian kiri\n",
    "        else:\n",
    "            low = mid + 1\n",
    "    \n",
    "    return f\"Nilai {target} tidak ditemukan dalam list.\"\n",
    "\n",
    "# List angka genap\n",
    "angka_ganjil = [2, 4, 6, 8, 10, 12, 14, 16, 18, 20]\n",
    "\n",
    "# Input dari pengguna\n",
    "number = int(input(\"Masukkan nilai yang ingin dicari: \"))\n",
    "\n",
    "# Memanggil fungsi binary search\n",
    "result = binary_search_ganjil(angka_ganjil, number)\n",
    "\n",
    "# Menampilkan hasil\n",
    "print(result)"
   ]
  }
 ],
 "metadata": {
  "kernelspec": {
   "display_name": "Python 3 (ipykernel)",
   "language": "python",
   "name": "python3"
  },
  "language_info": {
   "codemirror_mode": {
    "name": "ipython",
    "version": 3
   },
   "file_extension": ".py",
   "mimetype": "text/x-python",
   "name": "python",
   "nbconvert_exporter": "python",
   "pygments_lexer": "ipython3",
   "version": "3.11.5"
  }
 },
 "nbformat": 4,
 "nbformat_minor": 5
}
