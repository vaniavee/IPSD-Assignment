{
 "cells": [
  {
   "cell_type": "markdown",
   "id": "0d4299dd-910f-4d0e-941c-d97e65bfa7c3",
   "metadata": {},
   "source": [
    "1. Load Data (Movie Classification)"
   ]
  },
  {
   "cell_type": "code",
   "execution_count": 1,
   "id": "d7a9c92c-cfe5-495a-9f32-48acd023fb2a",
   "metadata": {},
   "outputs": [],
   "source": [
    "#  Import library package pandas dan numpy\n",
    "import pandas as pd\n",
    "import numpy as np"
   ]
  },
  {
   "cell_type": "code",
   "execution_count": 16,
   "id": "83197799-1ab4-4b69-8adc-e2ad5ef6822d",
   "metadata": {
    "tags": []
   },
   "outputs": [
    {
     "data": {
      "text/html": [
       "<div>\n",
       "<style scoped>\n",
       "    .dataframe tbody tr th:only-of-type {\n",
       "        vertical-align: middle;\n",
       "    }\n",
       "\n",
       "    .dataframe tbody tr th {\n",
       "        vertical-align: top;\n",
       "    }\n",
       "\n",
       "    .dataframe thead th {\n",
       "        text-align: right;\n",
       "    }\n",
       "</style>\n",
       "<table border=\"1\" class=\"dataframe\">\n",
       "  <thead>\n",
       "    <tr style=\"text-align: right;\">\n",
       "      <th></th>\n",
       "      <th>Marketing expense</th>\n",
       "      <th>Production expense</th>\n",
       "      <th>Multiplex coverage</th>\n",
       "      <th>Budget</th>\n",
       "      <th>Movie_length</th>\n",
       "      <th>Lead_ Actor_Rating</th>\n",
       "      <th>Lead_Actress_rating</th>\n",
       "      <th>Director_rating</th>\n",
       "      <th>Producer_rating</th>\n",
       "      <th>Critic_rating</th>\n",
       "      <th>Trailer_views</th>\n",
       "      <th>3D_available</th>\n",
       "      <th>Time_taken</th>\n",
       "      <th>Twitter_hastags</th>\n",
       "      <th>Genre</th>\n",
       "      <th>Avg_age_actors</th>\n",
       "      <th>Num_multiplex</th>\n",
       "      <th>Collection</th>\n",
       "      <th>Start_Tech_Oscar</th>\n",
       "    </tr>\n",
       "  </thead>\n",
       "  <tbody>\n",
       "    <tr>\n",
       "      <th>0</th>\n",
       "      <td>201.264</td>\n",
       "      <td>59.62</td>\n",
       "      <td>462.0</td>\n",
       "      <td>36.524.125</td>\n",
       "      <td>138.7</td>\n",
       "      <td>7.825</td>\n",
       "      <td>8.095</td>\n",
       "      <td>7.910</td>\n",
       "      <td>7.995</td>\n",
       "      <td>7.94</td>\n",
       "      <td>527367</td>\n",
       "      <td>YES</td>\n",
       "      <td>109.60</td>\n",
       "      <td>223.840</td>\n",
       "      <td>Thriller</td>\n",
       "      <td>23</td>\n",
       "      <td>494</td>\n",
       "      <td>48000</td>\n",
       "      <td>1</td>\n",
       "    </tr>\n",
       "    <tr>\n",
       "      <th>1</th>\n",
       "      <td>205.462</td>\n",
       "      <td>69.14</td>\n",
       "      <td>531.0</td>\n",
       "      <td>35.668.655</td>\n",
       "      <td>152.4</td>\n",
       "      <td>7.505</td>\n",
       "      <td>7.650</td>\n",
       "      <td>7.440</td>\n",
       "      <td>7.470</td>\n",
       "      <td>7.44</td>\n",
       "      <td>494055</td>\n",
       "      <td>NO</td>\n",
       "      <td>146.64</td>\n",
       "      <td>243.456</td>\n",
       "      <td>Drama</td>\n",
       "      <td>42</td>\n",
       "      <td>462</td>\n",
       "      <td>43200</td>\n",
       "      <td>0</td>\n",
       "    </tr>\n",
       "    <tr>\n",
       "      <th>2</th>\n",
       "      <td>205.458</td>\n",
       "      <td>69.14</td>\n",
       "      <td>531.0</td>\n",
       "      <td>39.912.675</td>\n",
       "      <td>134.6</td>\n",
       "      <td>7.485</td>\n",
       "      <td>7.570</td>\n",
       "      <td>7.495</td>\n",
       "      <td>7.515</td>\n",
       "      <td>7.44</td>\n",
       "      <td>547051</td>\n",
       "      <td>NO</td>\n",
       "      <td>147.88</td>\n",
       "      <td>2022.400</td>\n",
       "      <td>Comedy</td>\n",
       "      <td>38</td>\n",
       "      <td>458</td>\n",
       "      <td>69400</td>\n",
       "      <td>1</td>\n",
       "    </tr>\n",
       "    <tr>\n",
       "      <th>3</th>\n",
       "      <td>206.474</td>\n",
       "      <td>59.36</td>\n",
       "      <td>542.0</td>\n",
       "      <td>38873.89</td>\n",
       "      <td>119.3</td>\n",
       "      <td>6.895</td>\n",
       "      <td>7.035</td>\n",
       "      <td>6.920</td>\n",
       "      <td>7.020</td>\n",
       "      <td>8.26</td>\n",
       "      <td>516279</td>\n",
       "      <td>YES</td>\n",
       "      <td>185.36</td>\n",
       "      <td>225.344</td>\n",
       "      <td>Drama</td>\n",
       "      <td>45</td>\n",
       "      <td>472</td>\n",
       "      <td>66800</td>\n",
       "      <td>1</td>\n",
       "    </tr>\n",
       "    <tr>\n",
       "      <th>4</th>\n",
       "      <td>21.381</td>\n",
       "      <td>59.36</td>\n",
       "      <td>542.0</td>\n",
       "      <td>39.701.585</td>\n",
       "      <td>127.7</td>\n",
       "      <td>6.920</td>\n",
       "      <td>7.070</td>\n",
       "      <td>6.815</td>\n",
       "      <td>7.070</td>\n",
       "      <td>8.26</td>\n",
       "      <td>531448</td>\n",
       "      <td>NO</td>\n",
       "      <td>176.48</td>\n",
       "      <td>225.792</td>\n",
       "      <td>Drama</td>\n",
       "      <td>55</td>\n",
       "      <td>395</td>\n",
       "      <td>72400</td>\n",
       "      <td>1</td>\n",
       "    </tr>\n",
       "    <tr>\n",
       "      <th>...</th>\n",
       "      <td>...</td>\n",
       "      <td>...</td>\n",
       "      <td>...</td>\n",
       "      <td>...</td>\n",
       "      <td>...</td>\n",
       "      <td>...</td>\n",
       "      <td>...</td>\n",
       "      <td>...</td>\n",
       "      <td>...</td>\n",
       "      <td>...</td>\n",
       "      <td>...</td>\n",
       "      <td>...</td>\n",
       "      <td>...</td>\n",
       "      <td>...</td>\n",
       "      <td>...</td>\n",
       "      <td>...</td>\n",
       "      <td>...</td>\n",
       "      <td>...</td>\n",
       "      <td>...</td>\n",
       "    </tr>\n",
       "    <tr>\n",
       "      <th>501</th>\n",
       "      <td>212.526</td>\n",
       "      <td>78.86</td>\n",
       "      <td>427.0</td>\n",
       "      <td>36.624.115</td>\n",
       "      <td>142.6</td>\n",
       "      <td>8.680</td>\n",
       "      <td>8.775</td>\n",
       "      <td>8.620</td>\n",
       "      <td>8.970</td>\n",
       "      <td>6.80</td>\n",
       "      <td>492480</td>\n",
       "      <td>NO</td>\n",
       "      <td>186.96</td>\n",
       "      <td>243.584</td>\n",
       "      <td>Action</td>\n",
       "      <td>27</td>\n",
       "      <td>561</td>\n",
       "      <td>44800</td>\n",
       "      <td>0</td>\n",
       "    </tr>\n",
       "    <tr>\n",
       "      <th>502</th>\n",
       "      <td>209.054</td>\n",
       "      <td>78.86</td>\n",
       "      <td>427.0</td>\n",
       "      <td>33996.6</td>\n",
       "      <td>150.2</td>\n",
       "      <td>8.780</td>\n",
       "      <td>8.945</td>\n",
       "      <td>8.770</td>\n",
       "      <td>8.930</td>\n",
       "      <td>7.80</td>\n",
       "      <td>482875</td>\n",
       "      <td>YES</td>\n",
       "      <td>132.24</td>\n",
       "      <td>263.296</td>\n",
       "      <td>Action</td>\n",
       "      <td>20</td>\n",
       "      <td>600</td>\n",
       "      <td>41200</td>\n",
       "      <td>0</td>\n",
       "    </tr>\n",
       "    <tr>\n",
       "      <th>503</th>\n",
       "      <td>212.152</td>\n",
       "      <td>78.86</td>\n",
       "      <td>427.0</td>\n",
       "      <td>38751.68</td>\n",
       "      <td>164.5</td>\n",
       "      <td>8.830</td>\n",
       "      <td>8.970</td>\n",
       "      <td>8.855</td>\n",
       "      <td>9.010</td>\n",
       "      <td>7.80</td>\n",
       "      <td>532239</td>\n",
       "      <td>NO</td>\n",
       "      <td>109.56</td>\n",
       "      <td>243.824</td>\n",
       "      <td>Comedy</td>\n",
       "      <td>31</td>\n",
       "      <td>576</td>\n",
       "      <td>47800</td>\n",
       "      <td>0</td>\n",
       "    </tr>\n",
       "    <tr>\n",
       "      <th>504</th>\n",
       "      <td>221.918</td>\n",
       "      <td>78.86</td>\n",
       "      <td>427.0</td>\n",
       "      <td>37740.67</td>\n",
       "      <td>162.8</td>\n",
       "      <td>8.730</td>\n",
       "      <td>8.845</td>\n",
       "      <td>8.800</td>\n",
       "      <td>8.845</td>\n",
       "      <td>6.80</td>\n",
       "      <td>496077</td>\n",
       "      <td>YES</td>\n",
       "      <td>158.80</td>\n",
       "      <td>303.520</td>\n",
       "      <td>Comedy</td>\n",
       "      <td>47</td>\n",
       "      <td>607</td>\n",
       "      <td>44000</td>\n",
       "      <td>0</td>\n",
       "    </tr>\n",
       "    <tr>\n",
       "      <th>505</th>\n",
       "      <td>209.482</td>\n",
       "      <td>78.86</td>\n",
       "      <td>427.0</td>\n",
       "      <td>33496.65</td>\n",
       "      <td>154.3</td>\n",
       "      <td>8.640</td>\n",
       "      <td>8.880</td>\n",
       "      <td>8.680</td>\n",
       "      <td>8.790</td>\n",
       "      <td>6.80</td>\n",
       "      <td>518438</td>\n",
       "      <td>YES</td>\n",
       "      <td>205.60</td>\n",
       "      <td>203.040</td>\n",
       "      <td>Comedy</td>\n",
       "      <td>45</td>\n",
       "      <td>604</td>\n",
       "      <td>38000</td>\n",
       "      <td>0</td>\n",
       "    </tr>\n",
       "  </tbody>\n",
       "</table>\n",
       "<p>506 rows × 19 columns</p>\n",
       "</div>"
      ],
      "text/plain": [
       "    Marketing expense  Production expense  Multiplex coverage      Budget  \\\n",
       "0             201.264               59.62               462.0  36.524.125   \n",
       "1             205.462               69.14               531.0  35.668.655   \n",
       "2             205.458               69.14               531.0  39.912.675   \n",
       "3             206.474               59.36               542.0    38873.89   \n",
       "4              21.381               59.36               542.0  39.701.585   \n",
       "..                ...                 ...                 ...         ...   \n",
       "501           212.526               78.86               427.0  36.624.115   \n",
       "502           209.054               78.86               427.0     33996.6   \n",
       "503           212.152               78.86               427.0    38751.68   \n",
       "504           221.918               78.86               427.0    37740.67   \n",
       "505           209.482               78.86               427.0    33496.65   \n",
       "\n",
       "     Movie_length  Lead_ Actor_Rating  Lead_Actress_rating  Director_rating  \\\n",
       "0           138.7               7.825                8.095            7.910   \n",
       "1           152.4               7.505                7.650            7.440   \n",
       "2           134.6               7.485                7.570            7.495   \n",
       "3           119.3               6.895                7.035            6.920   \n",
       "4           127.7               6.920                7.070            6.815   \n",
       "..            ...                 ...                  ...              ...   \n",
       "501         142.6               8.680                8.775            8.620   \n",
       "502         150.2               8.780                8.945            8.770   \n",
       "503         164.5               8.830                8.970            8.855   \n",
       "504         162.8               8.730                8.845            8.800   \n",
       "505         154.3               8.640                8.880            8.680   \n",
       "\n",
       "     Producer_rating  Critic_rating  Trailer_views 3D_available  Time_taken  \\\n",
       "0              7.995           7.94         527367          YES      109.60   \n",
       "1              7.470           7.44         494055           NO      146.64   \n",
       "2              7.515           7.44         547051           NO      147.88   \n",
       "3              7.020           8.26         516279          YES      185.36   \n",
       "4              7.070           8.26         531448           NO      176.48   \n",
       "..               ...            ...            ...          ...         ...   \n",
       "501            8.970           6.80         492480           NO      186.96   \n",
       "502            8.930           7.80         482875          YES      132.24   \n",
       "503            9.010           7.80         532239           NO      109.56   \n",
       "504            8.845           6.80         496077          YES      158.80   \n",
       "505            8.790           6.80         518438          YES      205.60   \n",
       "\n",
       "     Twitter_hastags     Genre  Avg_age_actors  Num_multiplex  Collection  \\\n",
       "0            223.840  Thriller              23            494       48000   \n",
       "1            243.456     Drama              42            462       43200   \n",
       "2           2022.400    Comedy              38            458       69400   \n",
       "3            225.344     Drama              45            472       66800   \n",
       "4            225.792     Drama              55            395       72400   \n",
       "..               ...       ...             ...            ...         ...   \n",
       "501          243.584    Action              27            561       44800   \n",
       "502          263.296    Action              20            600       41200   \n",
       "503          243.824    Comedy              31            576       47800   \n",
       "504          303.520    Comedy              47            607       44000   \n",
       "505          203.040    Comedy              45            604       38000   \n",
       "\n",
       "     Start_Tech_Oscar  \n",
       "0                   1  \n",
       "1                   0  \n",
       "2                   1  \n",
       "3                   1  \n",
       "4                   1  \n",
       "..                ...  \n",
       "501                 0  \n",
       "502                 0  \n",
       "503                 0  \n",
       "504                 0  \n",
       "505                 0  \n",
       "\n",
       "[506 rows x 19 columns]"
      ]
     },
     "execution_count": 16,
     "metadata": {},
     "output_type": "execute_result"
    }
   ],
   "source": [
    "# Membaca dataset Movie_classification\n",
    "df = pd.read_csv('Movie_classification.csv')\n",
    "df"
   ]
  },
  {
   "cell_type": "code",
   "execution_count": 17,
   "id": "e50f34c3-07ce-49b2-8be6-cb820c1b4692",
   "metadata": {
    "tags": []
   },
   "outputs": [
    {
     "name": "stdout",
     "output_type": "stream",
     "text": [
      "<class 'pandas.core.frame.DataFrame'>\n",
      "RangeIndex: 506 entries, 0 to 505\n",
      "Data columns (total 19 columns):\n",
      " #   Column               Non-Null Count  Dtype  \n",
      "---  ------               --------------  -----  \n",
      " 0   Marketing expense    506 non-null    object \n",
      " 1   Production expense   506 non-null    float64\n",
      " 2   Multiplex coverage   506 non-null    float64\n",
      " 3   Budget               506 non-null    object \n",
      " 4   Movie_length         506 non-null    float64\n",
      " 5   Lead_ Actor_Rating   506 non-null    float64\n",
      " 6   Lead_Actress_rating  506 non-null    float64\n",
      " 7   Director_rating      506 non-null    float64\n",
      " 8   Producer_rating      506 non-null    float64\n",
      " 9   Critic_rating        506 non-null    float64\n",
      " 10  Trailer_views        506 non-null    int64  \n",
      " 11  3D_available         506 non-null    object \n",
      " 12  Time_taken           494 non-null    float64\n",
      " 13  Twitter_hastags      506 non-null    float64\n",
      " 14  Genre                506 non-null    object \n",
      " 15  Avg_age_actors       506 non-null    int64  \n",
      " 16  Num_multiplex        506 non-null    int64  \n",
      " 17  Collection           506 non-null    int64  \n",
      " 18  Start_Tech_Oscar     506 non-null    int64  \n",
      "dtypes: float64(10), int64(5), object(4)\n",
      "memory usage: 75.2+ KB\n"
     ]
    }
   ],
   "source": [
    "# Menampilkan informasi data \n",
    "df.info()"
   ]
  },
  {
   "cell_type": "markdown",
   "id": "f2f1a171-0e0c-4dd8-a92a-0bd8fee8e9a2",
   "metadata": {
    "tags": []
   },
   "source": [
    "2. Mengecek Nilai Duplikat"
   ]
  },
  {
   "cell_type": "code",
   "execution_count": 18,
   "id": "d6a1fd86-fd7a-48b1-90d3-e632719894f4",
   "metadata": {
    "tags": []
   },
   "outputs": [
    {
     "data": {
      "text/plain": [
       "0"
      ]
     },
     "execution_count": 18,
     "metadata": {},
     "output_type": "execute_result"
    }
   ],
   "source": [
    "# Melihat duplikat data\n",
    "df.duplicated().sum()"
   ]
  },
  {
   "cell_type": "markdown",
   "id": "9abe20d4-08d9-45f5-8baf-7ed9e1500ab6",
   "metadata": {
    "tags": []
   },
   "source": [
    "3. Mencari dan menemukan null values buat presentase"
   ]
  },
  {
   "cell_type": "code",
   "execution_count": 19,
   "id": "9294eb33-1051-4ad5-9113-3dcbb39f6408",
   "metadata": {
    "tags": []
   },
   "outputs": [
    {
     "data": {
      "text/plain": [
       "Marketing expense       0\n",
       "Production expense      0\n",
       "Multiplex coverage      0\n",
       "Budget                  0\n",
       "Movie_length            0\n",
       "Lead_ Actor_Rating      0\n",
       "Lead_Actress_rating     0\n",
       "Director_rating         0\n",
       "Producer_rating         0\n",
       "Critic_rating           0\n",
       "Trailer_views           0\n",
       "3D_available            0\n",
       "Time_taken             12\n",
       "Twitter_hastags         0\n",
       "Genre                   0\n",
       "Avg_age_actors          0\n",
       "Num_multiplex           0\n",
       "Collection              0\n",
       "Start_Tech_Oscar        0\n",
       "dtype: int64"
      ]
     },
     "execution_count": 19,
     "metadata": {},
     "output_type": "execute_result"
    }
   ],
   "source": [
    "# Mengecek apakah ada missing value pada setiap kolom\n",
    "df.isna().sum()"
   ]
  },
  {
   "cell_type": "code",
   "execution_count": 15,
   "id": "bea845e7-72ec-4f6c-b559-7a62e4c2fbe5",
   "metadata": {
    "tags": []
   },
   "outputs": [
    {
     "data": {
      "text/plain": [
       "Marketing expense      0.000000\n",
       "Production expense     0.000000\n",
       "Multiplex coverage     0.000000\n",
       "Budget                 0.000000\n",
       "Movie_length           0.000000\n",
       "Lead_ Actor_Rating     0.000000\n",
       "Lead_Actress_rating    0.000000\n",
       "Director_rating        0.000000\n",
       "Producer_rating        0.000000\n",
       "Critic_rating          0.000000\n",
       "Trailer_views          0.000000\n",
       "3D_available           0.000000\n",
       "Time_taken             2.371542\n",
       "Twitter_hastags        0.000000\n",
       "Genre                  0.000000\n",
       "Avg_age_actors         0.000000\n",
       "Num_multiplex          0.000000\n",
       "Collection             0.000000\n",
       "Start_Tech_Oscar       0.000000\n",
       "dtype: float64"
      ]
     },
     "execution_count": 15,
     "metadata": {},
     "output_type": "execute_result"
    }
   ],
   "source": [
    "# Mencari missing values dan persentasenya\n",
    "df.isna().sum()/len(df)*100"
   ]
  },
  {
   "cell_type": "markdown",
   "id": "f39f1ec7-ffc5-45bf-b46f-1b5cfc041dba",
   "metadata": {},
   "source": [
    "4. Drop missing value berdasarkan baris, kolom, imputasi dengan mean, modus, median"
   ]
  },
  {
   "cell_type": "code",
   "execution_count": 23,
   "id": "c2703cde-53f2-44bc-bbab-62653963c6b4",
   "metadata": {
    "tags": []
   },
   "outputs": [],
   "source": [
    "# Drop missing values berdasarkan baris\n",
    "baris = df.copy(deep=True)\n",
    "drop_baris = baris.dropna()"
   ]
  },
  {
   "cell_type": "code",
   "execution_count": 24,
   "id": "35921a54-4ec1-4ae9-8e15-d1b051ab27be",
   "metadata": {
    "tags": []
   },
   "outputs": [],
   "source": [
    "# Drop missing values berdasarkan kolom\n",
    "kolom = df.copy(deep=True)\n",
    "drop_kolom = kolom.dropna()"
   ]
  },
  {
   "cell_type": "markdown",
   "id": "ee342fc0-409a-48fb-8f87-84560aa3cf97",
   "metadata": {},
   "source": [
    "Imputasi dengan Mean"
   ]
  },
  {
   "cell_type": "code",
   "execution_count": 26,
   "id": "42f417eb-49c0-423e-b411-90cad8419973",
   "metadata": {
    "tags": []
   },
   "outputs": [],
   "source": [
    "# Fill missing values with mean\n",
    "imputasi_mean = df.copy()\n",
    "imputasi_mean['Time_taken'].fillna(imputasi_mean['Time_taken'].mean(), inplace=True)"
   ]
  },
  {
   "cell_type": "markdown",
   "id": "f4fdabda-f649-4763-a361-555c9c31f482",
   "metadata": {},
   "source": [
    "Imputasi dengan Median"
   ]
  },
  {
   "cell_type": "code",
   "execution_count": 27,
   "id": "faf5de7a-01f6-460d-8569-85407e8d7fad",
   "metadata": {
    "tags": []
   },
   "outputs": [],
   "source": [
    "# Fill missing values with median\n",
    "imputasi_median = df.copy()\n",
    "imputasi_median['Time_taken'].fillna(imputasi_median['Time_taken'].median(), inplace=True)"
   ]
  },
  {
   "cell_type": "markdown",
   "id": "1f8aa424-a3df-4bf0-b089-2541636ed11b",
   "metadata": {},
   "source": [
    "Imputasi dengan Modus"
   ]
  },
  {
   "cell_type": "code",
   "execution_count": 29,
   "id": "c9597bf9-d609-483e-abe6-e51ef159f9c2",
   "metadata": {
    "tags": []
   },
   "outputs": [],
   "source": [
    "# Fill missing values with mode\n",
    "imputasi_mode = df.copy()\n",
    "imputasi_mode['Time_taken'].fillna(imputasi_mode['Time_taken'].mode()[0], inplace=True)"
   ]
  },
  {
   "cell_type": "markdown",
   "id": "bd0e2269-90b3-493a-ab05-e692f07d0dde",
   "metadata": {},
   "source": [
    "5. Export data ke csv dan excel"
   ]
  },
  {
   "cell_type": "code",
   "execution_count": 31,
   "id": "d35088ec-2cdb-4161-ad3e-88ea8cad400a",
   "metadata": {
    "tags": []
   },
   "outputs": [],
   "source": [
    "drop_baris.to_excel('Movie_classification_clean_drop_baris.xlsx', index=False)\n",
    "drop_kolom.to_excel('Movie_classification_clean_drop_kolom.xlsx', index=False)\n",
    "imputasi_mean.to_excel('Movie_classification_clean_mean.xlsx', index=False)\n",
    "imputasi_mode.to_excel('Movie_classification_clean_modus.xlsx', index=False)\n",
    "imputasi_median.to_excel('Movie_classification_clean_median.xlsx', index=False)\n",
    "\n",
    "drop_baris.to_csv('Movie_classification_clean_drop_baris.csv', index=False)\n",
    "drop_kolom.to_csv('Movie_classification_clean_drop_kolom.csv', index=False)\n",
    "imputasi_mean.to_csv('Movie_classification_clean_mean.csv', index=False)\n",
    "imputasi_mode.to_csv('Movie_classification_clean_modus.csv', index=False)\n",
    "imputasi_median.to_csv('Movie_classification_clean_median.csv', index=False)"
   ]
  }
 ],
 "metadata": {
  "kernelspec": {
   "display_name": "Python 3 (ipykernel)",
   "language": "python",
   "name": "python3"
  },
  "language_info": {
   "codemirror_mode": {
    "name": "ipython",
    "version": 3
   },
   "file_extension": ".py",
   "mimetype": "text/x-python",
   "name": "python",
   "nbconvert_exporter": "python",
   "pygments_lexer": "ipython3",
   "version": "3.11.5"
  }
 },
 "nbformat": 4,
 "nbformat_minor": 5
}
