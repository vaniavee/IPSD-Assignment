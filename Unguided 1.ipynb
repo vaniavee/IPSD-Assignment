{
 "cells": [
  {
   "cell_type": "code",
   "execution_count": 1,
   "id": "c519eaf7-8b9e-4c36-b047-d2fa9075eb6f",
   "metadata": {
    "tags": []
   },
   "outputs": [],
   "source": [
    "MODUL 1 - LATIHAN DASAR-DASAR PYTHON"
   ]
  },
  {
   "cell_type": "markdown",
   "id": "78cc1e10-cf9c-42ac-b033-6cbbaa97913b",
   "metadata": {
    "tags": []
   },
   "source": [
    "SOAL 1\n",
    "Buatlah program yang dapat menghasilkan pola berbentuk angka seperti di bawah ini,\n",
    "dengan syarat angka yang ditampilkan adalah hasil dari penjumlahan bilangan prima \n",
    "sebelumnya:  "
   ]
  },
  {
   "cell_type": "code",
   "execution_count": 3,
   "id": "1c68d2ca-2410-440d-9180-771c04e399ea",
   "metadata": {
    "tags": []
   },
   "outputs": [
    {
     "name": "stdout",
     "output_type": "stream",
     "text": [
      "2 \n",
      "3 5 \n",
      "7 11 13 \n",
      "17 19 23 29 \n",
      "31 37 41 43 47 \n"
     ]
    }
   ],
   "source": [
    "# fungsi untuk mengecek apakah bilangan tersebut merupakan nilangan prima.\n",
    "def is_prime(num):\n",
    "    if num < 2:\n",
    "        return False\n",
    "    for i in range(2, int(num**0.5) + 1):\n",
    "        if num % i == 0:\n",
    "            return False\n",
    "    return True\n",
    "\n",
    "# Function to generate prime numbers\n",
    "def generate_primes(n):\n",
    "    primes = []\n",
    "    num = 2  # Start checking from 2, the first prime number\n",
    "    while len(primes) < n:\n",
    "        if is_prime(num):\n",
    "            primes.append(num)\n",
    "        num += 1\n",
    "    return primes\n",
    "\n",
    "# Function to print the pattern\n",
    "def print_prime_pattern(rows):\n",
    "    primes_needed = sum(range(1, rows + 1))  # Total primes needed\n",
    "    primes = generate_primes(primes_needed)\n",
    "    \n",
    "    index = 0\n",
    "    for row in range(1, rows + 1):\n",
    "        for _ in range(row):\n",
    "            print(primes[index], end=\" \")\n",
    "            index += 1\n",
    "        print()  # Move to the next line after each row\n",
    "\n",
    "# Number of rows to display\n",
    "num_rows = 5\n",
    "print_prime_pattern(num_rows)\n"
   ]
  },
  {
   "cell_type": "code",
   "execution_count": 5,
   "id": "1ad2238f-5559-43ce-a396-f9e0ff715035",
   "metadata": {
    "tags": []
   },
   "outputs": [
    {
     "name": "stdout",
     "output_type": "stream",
     "text": [
      "2\n",
      "3 5\n",
      "7 11 13\n",
      "17 19 23 29\n",
      "31 37 41 43 47\n"
     ]
    }
   ],
   "source": [
    "def bil_prima(n):\n",
    "    if n <= 1:\n",
    "        return False\n",
    "    for i in range(2, int(n ** 0.5) + 1):\n",
    "        if n % i == 0:\n",
    "            return False\n",
    "    return True\n",
    "\n",
    "def pola_bilangan_prima(jumlah_bil_prima):\n",
    "    primes = []\n",
    "    num = 2\n",
    "    # kumpulkan bilangan prima sebanyak yang dibutuhkan\n",
    "    while len(primes) < jumlah_bil_prima:\n",
    "        if bil_prima(num):\n",
    "            primes.append(num)\n",
    "        num += 1\n",
    "\n",
    "    return primes\n",
    "\n",
    "def buat_pola(primes, n):\n",
    "    pola = []\n",
    "    index = 0\n",
    "    for i in range(1, n + 1):\n",
    "        row = []\n",
    "        for j in range(i):\n",
    "            row.append(primes[index])\n",
    "            index += 1\n",
    "        pola.append(row)\n",
    "    return pola\n",
    "\n",
    "def print_pola(pola):\n",
    "    for row in pola:\n",
    "        print(' '.join(str(x) for x in row))\n",
    "\n",
    "n = 5\n",
    "jumlah_bil_prima = n * (n + 1) // 2\n",
    "\n",
    "# dapatkan bilangan prima sebanyak jumlah_bil_prima\n",
    "primes = pola_bilangan_prima(jumlah_bil_prima)\n",
    "\n",
    "# buat pola dari bilangan prima yang didapatkan\n",
    "pola = buat_pola(primes, n)\n",
    "\n",
    "# tampilkan pola\n",
    "print_pola(pola)"
   ]
  },
  {
   "cell_type": "code",
   "execution_count": 4,
   "id": "f34202ab-0067-4147-9feb-dd6187ce22ea",
   "metadata": {
    "tags": []
   },
   "outputs": [
    {
     "name": "stdin",
     "output_type": "stream",
     "text": [
      "Masukkan jumlah pola yang ingin dicetak:  4\n"
     ]
    },
    {
     "name": "stdout",
     "output_type": "stream",
     "text": [
      "1\n",
      "2 3\n",
      "5 7 11\n",
      "13 17 19 23\n"
     ]
    }
   ],
   "source": [
    "def apakah_prima(n):\n",
    "    if n < 2:\n",
    "        return False\n",
    "    for i in range(2, int(n**0.5) + 1):\n",
    "        if n % i == 0:\n",
    "            return False\n",
    "    return True\n",
    "\n",
    "def buat_pola_prima(jumlah_baris):\n",
    "    hasil = [[1]]  #Mulai dengan 1 di baris pertama\n",
    "    bilangan_prima = []\n",
    "    angka_sekarang = 2\n",
    "\n",
    "    for baris in range(1, jumlah_baris):\n",
    "        angka_baris = []\n",
    "        while len(angka_baris) < baris + 1:\n",
    "            if apakah_prima(angka_sekarang):\n",
    "                bilangan_prima.append(angka_sekarang)\n",
    "                angka_baris.append(angka_sekarang)\n",
    "            angka_sekarang += 1\n",
    "        hasil.append(angka_baris)\n",
    "\n",
    "    return hasil\n",
    "\n",
    "def cetak_pola(pola):\n",
    "    for baris in pola:\n",
    "        print(' '.join(map(str, baris)))\n",
    "\n",
    "#Menghasilkan dan mencetak pola\n",
    "jumlah_baris = int(input(\"Masukkan jumlah pola yang ingin dicetak: \"))\n",
    "pola = buat_pola_prima(jumlah_baris)\n",
    "cetak_pola(pola)"
   ]
  },
  {
   "cell_type": "markdown",
   "id": "12b280c4-a2a4-4a4f-894d-cf2d1bcaee9f",
   "metadata": {
    "tags": []
   },
   "source": [
    "Soal 2\n",
    "Buatlah sebuah fungsi yang menerima dua input berupa list angka. Fungsi ini harus mengembalikan sebuah list baru yang berisi elemen dari dua list input yang memiliki indeks ganjil. List baru tersebut juga harus diurutkan secara menurun berdasarkan nilai elemen."
   ]
  },
  {
   "cell_type": "code",
   "execution_count": 6,
   "id": "631be2a4-97d5-4980-bb45-ed3955c39b71",
   "metadata": {
    "tags": []
   },
   "outputs": [
    {
     "name": "stdout",
     "output_type": "stream",
     "text": [
      "List elemen dengan indeks ganjil dan diurutkan secara menurun: [20, 18, 16, 14, 12, 10, 8, 6, 4, 2]\n"
     ]
    }
   ],
   "source": [
    "# program tanpa menggunakan input user\n",
    "def indeks_ganjil(list1, list2):\n",
    "    # ambil elemen dengan indeks ganjil dari kedua list\n",
    "    OddList1 = [list1[i] for i in range(1, len(list1), 2)]\n",
    "    OddList2 = [list2[i] for i in range(1, len(list2), 2)]\n",
    "\n",
    "    # merge kedua list yang memiliki nilai dari indeks ganjil\n",
    "    merge_list = OddList1 + OddList2\n",
    "\n",
    "    # urutkan list gabungan secara menurun\n",
    "    merge_list.sort(reverse=True)\n",
    "    return merge_list\n",
    "\n",
    "# isi list 1 dan 2\n",
    "list1 = [1, 2, 3, 4, 5, 6, 7, 8, 9, 10]\n",
    "list2 = [11, 12, 13, 14, 15, 16, 17, 18, 19, 20]\n",
    "\n",
    "# menampilkan hasil\n",
    "result = indeks_ganjil(list1, list2)\n",
    "print(f\"List elemen dengan indeks ganjil dan diurutkan secara menurun: {result}\")"
   ]
  },
  {
   "cell_type": "markdown",
   "id": "f173b21a-7427-4686-a738-588e037e5ca6",
   "metadata": {
    "tags": []
   },
   "source": [
    "Soal 3\n",
    "Buat sebuah program untuk mensimulasikan transaksi ATM. Program harus:\n",
    "    1. Meminta pengguna memasukkan PIN (dibatasi 3 kali percobaan).\n",
    "    2. Setelah PIN benar, meminta jumlah penarikan.\n",
    "    3. Jika saldo kurang dari jumlah yang ditarik, munculkan pesan kesalahan.\n",
    "    4. Jika penarikan berhasil, tampilkan saldo akhir.\n",
    "\n"
   ]
  },
  {
   "cell_type": "code",
   "execution_count": null,
   "id": "ed549378-90df-4ed6-b402-e4a6dbbc443b",
   "metadata": {
    "jp-MarkdownHeadingCollapsed": true,
    "tags": []
   },
   "outputs": [
    {
     "name": "stdin",
     "output_type": "stream",
     "text": [
      "Masukkan PIN (3 kali percobaan):  4556\n",
      "Masukkan PIN (3 kali percobaan):  433\n",
      "Masukkan PIN (3 kali percobaan):  1234\n"
     ]
    }
   ],
   "source": [
    "def atm_simulator():\n",
    "  pin_benar = \"1234\"  # Ganti dengan PIN yang diinginkan\n",
    "  saldo = 1000000  # Saldo awal\n",
    "\n",
    "  for i in range(3):\n",
    "    pin = input(\"Masukkan PIN (3 kali percobaan): \")\n",
    "    if pin == pin_benar:\n",
    "      break\n",
    "  else:\n",
    "    print(\"PIN salah terlalu banyak kali. Transaksi dibatalkan.\")\n",
    "    return\n",
    "\n",
    "  while True:\n",
    "    jumlah_penarikan = int(input(\"Masukkan jumlah penarikan: \"))\n",
    "    if jumlah_penarikan <= 0:\n",
    "      print(\"Jumlah penarikan harus lebih dari 0.\")\n",
    "    elif jumlah_penarikan > saldo:\n",
    "      print(\"Saldo tidak mencukupi.\")\n",
    "    else:\n",
    "      saldo -= jumlah_penarikan\n",
    "      print(\"Penarikan berhasil. Saldo Anda sekarang:\", saldo)\n",
    "      break\n",
    "    \n",
    "atm_simulator()"
   ]
  },
  {
   "cell_type": "code",
   "execution_count": 3,
   "id": "f81510a5-4be5-45ec-bf66-2fb4dbf6d9e6",
   "metadata": {
    "jp-MarkdownHeadingCollapsed": true,
    "tags": []
   },
   "outputs": [
    {
     "name": "stdin",
     "output_type": "stream",
     "text": [
      "Masukkan PIN:  232\n"
     ]
    },
    {
     "name": "stdout",
     "output_type": "stream",
     "text": [
      "PIN salah. Sisa percobaan: 2\n"
     ]
    },
    {
     "name": "stdin",
     "output_type": "stream",
     "text": [
      "Masukkan PIN:  1234\n"
     ]
    },
    {
     "name": "stdout",
     "output_type": "stream",
     "text": [
      "PIN benar. Akses diberikan.\n"
     ]
    },
    {
     "name": "stdin",
     "output_type": "stream",
     "text": [
      "Masukkan jumlah penarikan:  234000\n"
     ]
    },
    {
     "name": "stdout",
     "output_type": "stream",
     "text": [
      "Saldo tidak mencukupi.\n",
      "Saldo Anda: Rp100000\n"
     ]
    },
    {
     "name": "stdin",
     "output_type": "stream",
     "text": [
      "Masukkan jumlah penarikan:  23000\n"
     ]
    },
    {
     "name": "stdout",
     "output_type": "stream",
     "text": [
      "Penarikan berhasil. Saldo akhir: Rp77000\n"
     ]
    }
   ],
   "source": [
    "def atm_transaction():\n",
    "    pin_benar = \"1234\"\n",
    "    saldo = 100000\n",
    "    percobaan = 3\n",
    "\n",
    "    while percobaan > 0:\n",
    "        pin = input(\"Masukkan PIN: \")\n",
    "        if pin == pin_benar:\n",
    "            print(\"PIN benar. Akses diberikan.\")\n",
    "            while True:\n",
    "                try:\n",
    "                    jumlah = int(input(\"Masukkan jumlah penarikan: \"))\n",
    "                    if jumlah > saldo:\n",
    "                        print(\"Saldo tidak mencukupi.\")\n",
    "                        print(f\"Saldo Anda: Rp{saldo}\")\n",
    "                    else:\n",
    "                        saldo -= jumlah\n",
    "                        print(f\"Penarikan berhasil. Saldo akhir: Rp{saldo}\")\n",
    "                        return\n",
    "                except ValueError:\n",
    "                    print(\"Masukkan jumlah yang valid.\")\n",
    "        else:\n",
    "            percobaan -= 1\n",
    "            print(f\"PIN salah. Sisa percobaan: {percobaan}\")\n",
    "\n",
    "    print(\"PIN salah 3 kali. Kartu Anda diblokir.\")\n",
    "\n",
    "if __name__ == \"__main__\":\n",
    "    atm_transaction()"
   ]
  },
  {
   "cell_type": "markdown",
   "id": "3a6a2a62-1400-47b0-8fcb-b9c760462bb0",
   "metadata": {
    "tags": []
   },
   "source": [
    "Soal 4\n",
    "Anda diberikan file CSV berisi data nilai ujian mahasiswa. Tugas Anda adalah menulis sebuah program yang:\n",
    "    1. Membaca file CSV dan menyimpan datanya ke dalam dictionary.\n",
    "    2. Menghitung rata-rata nilai tiap mahasiswa.\n",
    "    3. Menampilkan mahasiswa dengan nilai tertinggi dan terendah."
   ]
  },
  {
   "cell_type": "code",
   "execution_count": null,
   "id": "f6f11c65-1a50-48d3-a7bd-494931f43256",
   "metadata": {
    "jp-MarkdownHeadingCollapsed": true,
    "tags": []
   },
   "outputs": [],
   "source": []
  },
  {
   "cell_type": "code",
   "execution_count": null,
   "id": "6eff29d5-31b6-41ad-a306-e0b846899056",
   "metadata": {},
   "outputs": [],
   "source": [
    "Soal 5\n",
    "Buatlah permainan sederhana menggunakan Python, di mana komputer akan memilih sebuah angka secara acak antara 1 hingga 100, dan pengguna harus menebak angka tersebut. Setiap tebakan yang salah akan memberikan petunjuk apakah angka yang ditebak lebih besar atau lebih kecil dari angka sebenarnya. Batasi jumlah per"
   ]
  },
  {
   "cell_type": "code",
   "execution_count": null,
   "id": "15138b39-e674-4fbc-87d7-a45049398bf7",
   "metadata": {
    "jp-MarkdownHeadingCollapsed": true,
    "tags": []
   },
   "outputs": [],
   "source": []
  },
  {
   "cell_type": "markdown",
   "id": "16be9ed9-05c5-442a-bc17-716a6d2ffc8e",
   "metadata": {},
   "source": [
    "Soal 6\n",
    "Buat fungsi rekursif yang menerima input bilangan bulat `n` dan menghasilkan urutan bilangan seperti berikut ini:\n",
    "Input: n = 4\n",
    "Output: 1, 1, 2, 6, 24\n",
    "\n"
   ]
  },
  {
   "cell_type": "code",
   "execution_count": 11,
   "id": "288d3ada-d7a2-45ca-b5ed-c798540183d9",
   "metadata": {
    "jp-MarkdownHeadingCollapsed": true,
    "tags": []
   },
   "outputs": [
    {
     "name": "stdin",
     "output_type": "stream",
     "text": [
      "Masukkan nilai n:  4\n"
     ]
    },
    {
     "name": "stdout",
     "output_type": "stream",
     "text": [
      "[1, 1, 2, 6, 24]\n"
     ]
    }
   ],
   "source": [
    "# Menghitung faktorial dari n\n",
    "def faktorial(n):\n",
    "  if n == 0 or n == 1:\n",
    "    return 1\n",
    "  else:\n",
    "    return n * faktorial(n - 1)\n",
    "\n",
    "# Untuk menghasilkan urutan/ deret faktorial dari bil. n\n",
    "def rekursif(n):\n",
    "  if n == 0:\n",
    "    return [1]\n",
    "  else:\n",
    "    seq = rekursif(n - 1)\n",
    "    seq.append(faktorial(n))\n",
    "    return seq\n",
    "\n",
    "# Meminta input dari pengguna\n",
    "n = int(input(\"Masukkan nilai n: \"))\n",
    "\n",
    "# Memanggil fungsi dan mencetak hasil\n",
    "output = rekursif(n)\n",
    "print(output)"
   ]
  },
  {
   "cell_type": "code",
   "execution_count": null,
   "id": "c3266771-06ae-4091-9a63-ba3459e04eb8",
   "metadata": {},
   "outputs": [],
   "source": [
    "Soal 7\n",
    "Buatlah program untuk memecahkan masalah \"minimum coin change\". Diberikan jumlah uang dan daftar nilai koin yang tersedia (misalnya, 1, 5, 10, 25), tentukan kombinasi minimum koin yang diperlukan untuk mencapai jumlah uang tersebut. Namun, program Anda harus bisa menangani koin-koin yang nilai dan jumlahnya ditentukan pengguna.\n",
    "\n"
   ]
  },
  {
   "cell_type": "code",
   "execution_count": null,
   "id": "050d7720-0061-422a-bef8-ff6f1c3b1ea1",
   "metadata": {
    "jp-MarkdownHeadingCollapsed": true,
    "tags": []
   },
   "outputs": [],
   "source": []
  },
  {
   "cell_type": "code",
   "execution_count": null,
   "id": "e0ddbd92-e077-43dc-818f-cdd33cc136d3",
   "metadata": {},
   "outputs": [],
   "source": [
    "Soal 8\n",
    "Buat sebuah program yang menerima string dari pengguna dan mengonversi string tersebut menjadi sebuah list berisi kata-kata terbalik. Misalnya:\n",
    "    Input: \"Saya suka Python\"\n",
    "    Output: [\"ayaS\", \"akus\", \"nohtyP\"]\n",
    "\n"
   ]
  },
  {
   "cell_type": "code",
   "execution_count": null,
   "id": "a13849a9-a765-4127-ba7e-c34389f9ca34",
   "metadata": {
    "jp-MarkdownHeadingCollapsed": true,
    "tags": []
   },
   "outputs": [],
   "source": []
  },
  {
   "cell_type": "markdown",
   "id": "077c9d97-9287-4c24-ac05-8354af37cb59",
   "metadata": {},
   "source": [
    "Soal 9\n",
    "Buat class bernama `Buku` yang memiliki atribut `judul`, `penulis`, dan `tahun_terbit`. Buat method dalam class untuk menampilkan informasi buku, serta method untuk menghitung usia buku berdasarkan tahun saat ini. Buatlah 3 objek dari class `Buku` dan tampilkan informasi serta usia masing-masing buku."
   ]
  },
  {
   "cell_type": "code",
   "execution_count": 1,
   "id": "17db00e3-cfa5-4d37-abe9-b2158c22ebea",
   "metadata": {
    "jp-MarkdownHeadingCollapsed": true,
    "tags": []
   },
   "outputs": [
    {
     "name": "stdout",
     "output_type": "stream",
     "text": [
      "INFORMASI IDENTITAS DAN USIA BUKU\n",
      "=================================\n",
      "Informasi Buku 1:\n",
      "Judul: Fantastic Best and Where to Find Them\n",
      "Penulis: J.K. Rowling\n",
      "Tahun Terbit: 2001\n",
      "Usia Buku: 23 tahun\n",
      "\n",
      "Informasi Buku 2:\n",
      "Judul: Cosmos\n",
      "Penulis: Carl Sagan\n",
      "Tahun Terbit: 1981\n",
      "Usia Buku: 43 tahun\n",
      "\n",
      "Informasi Buku 3:\n",
      "Judul: Hujan\n",
      "Penulis: Tere Liye\n",
      "Tahun Terbit: 2016\n",
      "Usia Buku: 8 tahun\n"
     ]
    }
   ],
   "source": [
    "from datetime import datetime\n",
    "\n",
    "class Buku:\n",
    "    # Untuk menginisiasi objek dengan atribut tertentu\n",
    "    def __init__(self, judul, penulis, year): \n",
    "        self.judul = judul\n",
    "        self.penulis = penulis\n",
    "        self.year = year\n",
    "    \n",
    "    # Menampilkan informasi buku\n",
    "    def info(self):\n",
    "        print(f\"Judul: {self.judul}\")\n",
    "        print(f\"Penulis: {self.penulis}\")\n",
    "        print(f\"Tahun Terbit: {self.year}\")\n",
    "\n",
    "    # Menghitung usia buku (tahun saat ini -  tahun terbit)\n",
    "    def hitung_usia(self):\n",
    "        tahun_sekarang = datetime.now().year\n",
    "        usia_buku = tahun_sekarang - self.year\n",
    "        print(f\"Usia Buku: {usia_buku} tahun\")\n",
    "\n",
    "# Membuat objek-objek dari class Buku\n",
    "buku1 = Buku(\"Fantastic Best and Where to Find Them\", \"J.K. Rowling\", 2001)\n",
    "buku2 = Buku(\"Cosmos\", \"Carl Sagan\", 1981)\n",
    "buku3 = Buku(\"Hujan\", \"Tere Liye\", 2016)\n",
    "\n",
    "# Menampilkan informasi dan usia masing-masing buku\n",
    "print(\"INFORMASI IDENTITAS DAN USIA BUKU\")\n",
    "print(\"=================================\")\n",
    "\n",
    "print(\"Informasi Buku 1:\")\n",
    "buku1.info()\n",
    "buku1.hitung_usia()\n",
    "\n",
    "print(\"\\nInformasi Buku 2:\")\n",
    "buku2.info()\n",
    "buku2.hitung_usia()\n",
    "\n",
    "print(\"\\nInformasi Buku 3:\")\n",
    "buku3.info()\n",
    "buku3.hitung_usia()"
   ]
  },
  {
   "cell_type": "code",
   "execution_count": null,
   "id": "26d40372-8bc4-4c04-a5ef-c4a984de0892",
   "metadata": {},
   "outputs": [],
   "source": [
    "Soal 10\n",
    "Buatlah program yang mengimplementasikan algoritma pencarian biner, namun dengan modifikasi: algoritma harus bisa mencari nilai di list yang hanya berisi angka genap, dan jika nilai yang dicari adalah angka ganjil, program harus menampilkan pesan bahwa nilai tersebut tidak bisa ditemukan."
   ]
  },
  {
   "cell_type": "code",
   "execution_count": null,
   "id": "38e882e5-f3c4-4630-849d-41408b6902e5",
   "metadata": {
    "jp-MarkdownHeadingCollapsed": true,
    "tags": []
   },
   "outputs": [],
   "source": []
  }
 ],
 "metadata": {
  "kernelspec": {
   "display_name": "Python 3 (ipykernel)",
   "language": "python",
   "name": "python3"
  },
  "language_info": {
   "codemirror_mode": {
    "name": "ipython",
    "version": 3
   },
   "file_extension": ".py",
   "mimetype": "text/x-python",
   "name": "python",
   "nbconvert_exporter": "python",
   "pygments_lexer": "ipython3",
   "version": "3.11.5"
  }
 },
 "nbformat": 4,
 "nbformat_minor": 5
}
